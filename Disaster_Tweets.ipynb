{
  "nbformat": 4,
  "nbformat_minor": 0,
  "metadata": {
    "colab": {
      "provenance": [],
      "toc_visible": true
    },
    "kernelspec": {
      "name": "python3",
      "display_name": "Python 3"
    },
    "language_info": {
      "name": "python"
    }
  },
  "cells": [
    {
      "cell_type": "markdown",
      "source": [
        "# Workbook Information\n",
        "\n",
        "https://www.kaggle.com/competitions/nlp-getting-started/overview"
      ],
      "metadata": {
        "id": "pSAHuRxSYyzN"
      }
    },
    {
      "cell_type": "code",
      "source": [
        "# Importing the helper_functions file\n",
        "import os\n",
        "\n",
        "if not os.path.exists('helper_functions.py'):\n",
        "  !wget https://raw.githubusercontent.com/DavAll22/Extra-Code/main/helper_functions_TF.py\n",
        "else:\n",
        "  print(\"[INFO] 'helper_functions_TF.py' already exists, skipping download.\")"
      ],
      "metadata": {
        "colab": {
          "base_uri": "https://localhost:8080/"
        },
        "id": "sYsuMP4NdIme",
        "outputId": "7b19b711-dee8-4e96-d71f-65151b5fb868"
      },
      "execution_count": 1,
      "outputs": [
        {
          "output_type": "stream",
          "name": "stdout",
          "text": [
            "--2023-06-08 11:45:06--  https://raw.githubusercontent.com/DavAll22/Extra-Code/main/helper_functions_TF.py\n",
            "Resolving raw.githubusercontent.com (raw.githubusercontent.com)... 185.199.109.133, 185.199.108.133, 185.199.110.133, ...\n",
            "Connecting to raw.githubusercontent.com (raw.githubusercontent.com)|185.199.109.133|:443... connected.\n",
            "HTTP request sent, awaiting response... 200 OK\n",
            "Length: 13751 (13K) [text/plain]\n",
            "Saving to: ‘helper_functions_TF.py’\n",
            "\n",
            "\rhelper_functions_TF   0%[                    ]       0  --.-KB/s               \rhelper_functions_TF 100%[===================>]  13.43K  --.-KB/s    in 0s      \n",
            "\n",
            "2023-06-08 11:45:06 (55.4 MB/s) - ‘helper_functions_TF.py’ saved [13751/13751]\n",
            "\n"
          ]
        }
      ]
    },
    {
      "cell_type": "markdown",
      "source": [
        "# Importing the dataset"
      ],
      "metadata": {
        "id": "MlxOqcT4Y5Ab"
      }
    },
    {
      "cell_type": "code",
      "source": [
        "!pip install opendatasets\n",
        "import opendatasets as od\n",
        "import pandas as pd\n",
        "import matplotlib.pyplot as plt\n",
        "import tensorflow as tf"
      ],
      "metadata": {
        "colab": {
          "base_uri": "https://localhost:8080/"
        },
        "id": "weEJ-B-0Y9TL",
        "outputId": "a5d4204c-0408-43ee-f69b-b542c452a1c1"
      },
      "execution_count": 2,
      "outputs": [
        {
          "output_type": "stream",
          "name": "stdout",
          "text": [
            "Looking in indexes: https://pypi.org/simple, https://us-python.pkg.dev/colab-wheels/public/simple/\n",
            "Collecting opendatasets\n",
            "  Downloading opendatasets-0.1.22-py3-none-any.whl (15 kB)\n",
            "Requirement already satisfied: tqdm in /usr/local/lib/python3.10/dist-packages (from opendatasets) (4.65.0)\n",
            "Requirement already satisfied: kaggle in /usr/local/lib/python3.10/dist-packages (from opendatasets) (1.5.13)\n",
            "Requirement already satisfied: click in /usr/local/lib/python3.10/dist-packages (from opendatasets) (8.1.3)\n",
            "Requirement already satisfied: six>=1.10 in /usr/local/lib/python3.10/dist-packages (from kaggle->opendatasets) (1.16.0)\n",
            "Requirement already satisfied: certifi in /usr/local/lib/python3.10/dist-packages (from kaggle->opendatasets) (2022.12.7)\n",
            "Requirement already satisfied: python-dateutil in /usr/local/lib/python3.10/dist-packages (from kaggle->opendatasets) (2.8.2)\n",
            "Requirement already satisfied: requests in /usr/local/lib/python3.10/dist-packages (from kaggle->opendatasets) (2.27.1)\n",
            "Requirement already satisfied: python-slugify in /usr/local/lib/python3.10/dist-packages (from kaggle->opendatasets) (8.0.1)\n",
            "Requirement already satisfied: urllib3 in /usr/local/lib/python3.10/dist-packages (from kaggle->opendatasets) (1.26.15)\n",
            "Requirement already satisfied: text-unidecode>=1.3 in /usr/local/lib/python3.10/dist-packages (from python-slugify->kaggle->opendatasets) (1.3)\n",
            "Requirement already satisfied: charset-normalizer~=2.0.0 in /usr/local/lib/python3.10/dist-packages (from requests->kaggle->opendatasets) (2.0.12)\n",
            "Requirement already satisfied: idna<4,>=2.5 in /usr/local/lib/python3.10/dist-packages (from requests->kaggle->opendatasets) (3.4)\n",
            "Installing collected packages: opendatasets\n",
            "Successfully installed opendatasets-0.1.22\n"
          ]
        }
      ]
    },
    {
      "cell_type": "code",
      "source": [
        "od.download(\"https://www.kaggle.com/competitions/nlp-getting-started/overview\")"
      ],
      "metadata": {
        "colab": {
          "base_uri": "https://localhost:8080/"
        },
        "id": "ZxLezkdYZRHA",
        "outputId": "62161d1b-6f4a-44c4-a62a-878857db2570"
      },
      "execution_count": 6,
      "outputs": [
        {
          "output_type": "stream",
          "name": "stdout",
          "text": [
            "Please provide your Kaggle credentials to download this dataset. Learn more: http://bit.ly/kaggle-creds\n",
            "Your Kaggle username: davall22\n",
            "Your Kaggle Key: ··········\n",
            "Downloading nlp-getting-started.zip to ./nlp-getting-started\n"
          ]
        },
        {
          "output_type": "stream",
          "name": "stderr",
          "text": [
            "100%|██████████| 593k/593k [00:00<00:00, 103MB/s]"
          ]
        },
        {
          "output_type": "stream",
          "name": "stdout",
          "text": [
            "\n",
            "Extracting archive ./nlp-getting-started/nlp-getting-started.zip to ./nlp-getting-started\n"
          ]
        },
        {
          "output_type": "stream",
          "name": "stderr",
          "text": [
            "\n"
          ]
        }
      ]
    },
    {
      "cell_type": "markdown",
      "source": [
        "Download from kaggle using username API key from kaggle.json. THe download requires the challenge to be accepted, then downloads all relevent files into /nlp-getting-started.\n",
        "The files can also be manually downloaded and copied over from the competition webpage."
      ],
      "metadata": {
        "id": "qUQ4_tIfaMfW"
      }
    },
    {
      "cell_type": "markdown",
      "source": [
        "# Making & Exploring the dataset"
      ],
      "metadata": {
        "id": "YEEQ024OZ4PQ"
      }
    },
    {
      "cell_type": "code",
      "source": [
        "train_df = pd.read_csv('/content/nlp-getting-started/train.csv')\n",
        "test_df = pd.read_csv('/content/nlp-getting-started/test.csv')\n",
        "train_df.head()"
      ],
      "metadata": {
        "colab": {
          "base_uri": "https://localhost:8080/",
          "height": 206
        },
        "id": "ooE12Bc_a3S5",
        "outputId": "0e227e39-395f-498f-d8ae-c2445981d0df"
      },
      "execution_count": 7,
      "outputs": [
        {
          "output_type": "execute_result",
          "data": {
            "text/plain": [
              "   id keyword location                                               text  \\\n",
              "0   1     NaN      NaN  Our Deeds are the Reason of this #earthquake M...   \n",
              "1   4     NaN      NaN             Forest fire near La Ronge Sask. Canada   \n",
              "2   5     NaN      NaN  All residents asked to 'shelter in place' are ...   \n",
              "3   6     NaN      NaN  13,000 people receive #wildfires evacuation or...   \n",
              "4   7     NaN      NaN  Just got sent this photo from Ruby #Alaska as ...   \n",
              "\n",
              "   target  \n",
              "0       1  \n",
              "1       1  \n",
              "2       1  \n",
              "3       1  \n",
              "4       1  "
            ],
            "text/html": [
              "\n",
              "  <div id=\"df-9eb33ea6-b4bd-46e4-a9b7-375276915200\">\n",
              "    <div class=\"colab-df-container\">\n",
              "      <div>\n",
              "<style scoped>\n",
              "    .dataframe tbody tr th:only-of-type {\n",
              "        vertical-align: middle;\n",
              "    }\n",
              "\n",
              "    .dataframe tbody tr th {\n",
              "        vertical-align: top;\n",
              "    }\n",
              "\n",
              "    .dataframe thead th {\n",
              "        text-align: right;\n",
              "    }\n",
              "</style>\n",
              "<table border=\"1\" class=\"dataframe\">\n",
              "  <thead>\n",
              "    <tr style=\"text-align: right;\">\n",
              "      <th></th>\n",
              "      <th>id</th>\n",
              "      <th>keyword</th>\n",
              "      <th>location</th>\n",
              "      <th>text</th>\n",
              "      <th>target</th>\n",
              "    </tr>\n",
              "  </thead>\n",
              "  <tbody>\n",
              "    <tr>\n",
              "      <th>0</th>\n",
              "      <td>1</td>\n",
              "      <td>NaN</td>\n",
              "      <td>NaN</td>\n",
              "      <td>Our Deeds are the Reason of this #earthquake M...</td>\n",
              "      <td>1</td>\n",
              "    </tr>\n",
              "    <tr>\n",
              "      <th>1</th>\n",
              "      <td>4</td>\n",
              "      <td>NaN</td>\n",
              "      <td>NaN</td>\n",
              "      <td>Forest fire near La Ronge Sask. Canada</td>\n",
              "      <td>1</td>\n",
              "    </tr>\n",
              "    <tr>\n",
              "      <th>2</th>\n",
              "      <td>5</td>\n",
              "      <td>NaN</td>\n",
              "      <td>NaN</td>\n",
              "      <td>All residents asked to 'shelter in place' are ...</td>\n",
              "      <td>1</td>\n",
              "    </tr>\n",
              "    <tr>\n",
              "      <th>3</th>\n",
              "      <td>6</td>\n",
              "      <td>NaN</td>\n",
              "      <td>NaN</td>\n",
              "      <td>13,000 people receive #wildfires evacuation or...</td>\n",
              "      <td>1</td>\n",
              "    </tr>\n",
              "    <tr>\n",
              "      <th>4</th>\n",
              "      <td>7</td>\n",
              "      <td>NaN</td>\n",
              "      <td>NaN</td>\n",
              "      <td>Just got sent this photo from Ruby #Alaska as ...</td>\n",
              "      <td>1</td>\n",
              "    </tr>\n",
              "  </tbody>\n",
              "</table>\n",
              "</div>\n",
              "      <button class=\"colab-df-convert\" onclick=\"convertToInteractive('df-9eb33ea6-b4bd-46e4-a9b7-375276915200')\"\n",
              "              title=\"Convert this dataframe to an interactive table.\"\n",
              "              style=\"display:none;\">\n",
              "        \n",
              "  <svg xmlns=\"http://www.w3.org/2000/svg\" height=\"24px\"viewBox=\"0 0 24 24\"\n",
              "       width=\"24px\">\n",
              "    <path d=\"M0 0h24v24H0V0z\" fill=\"none\"/>\n",
              "    <path d=\"M18.56 5.44l.94 2.06.94-2.06 2.06-.94-2.06-.94-.94-2.06-.94 2.06-2.06.94zm-11 1L8.5 8.5l.94-2.06 2.06-.94-2.06-.94L8.5 2.5l-.94 2.06-2.06.94zm10 10l.94 2.06.94-2.06 2.06-.94-2.06-.94-.94-2.06-.94 2.06-2.06.94z\"/><path d=\"M17.41 7.96l-1.37-1.37c-.4-.4-.92-.59-1.43-.59-.52 0-1.04.2-1.43.59L10.3 9.45l-7.72 7.72c-.78.78-.78 2.05 0 2.83L4 21.41c.39.39.9.59 1.41.59.51 0 1.02-.2 1.41-.59l7.78-7.78 2.81-2.81c.8-.78.8-2.07 0-2.86zM5.41 20L4 18.59l7.72-7.72 1.47 1.35L5.41 20z\"/>\n",
              "  </svg>\n",
              "      </button>\n",
              "      \n",
              "  <style>\n",
              "    .colab-df-container {\n",
              "      display:flex;\n",
              "      flex-wrap:wrap;\n",
              "      gap: 12px;\n",
              "    }\n",
              "\n",
              "    .colab-df-convert {\n",
              "      background-color: #E8F0FE;\n",
              "      border: none;\n",
              "      border-radius: 50%;\n",
              "      cursor: pointer;\n",
              "      display: none;\n",
              "      fill: #1967D2;\n",
              "      height: 32px;\n",
              "      padding: 0 0 0 0;\n",
              "      width: 32px;\n",
              "    }\n",
              "\n",
              "    .colab-df-convert:hover {\n",
              "      background-color: #E2EBFA;\n",
              "      box-shadow: 0px 1px 2px rgba(60, 64, 67, 0.3), 0px 1px 3px 1px rgba(60, 64, 67, 0.15);\n",
              "      fill: #174EA6;\n",
              "    }\n",
              "\n",
              "    [theme=dark] .colab-df-convert {\n",
              "      background-color: #3B4455;\n",
              "      fill: #D2E3FC;\n",
              "    }\n",
              "\n",
              "    [theme=dark] .colab-df-convert:hover {\n",
              "      background-color: #434B5C;\n",
              "      box-shadow: 0px 1px 3px 1px rgba(0, 0, 0, 0.15);\n",
              "      filter: drop-shadow(0px 1px 2px rgba(0, 0, 0, 0.3));\n",
              "      fill: #FFFFFF;\n",
              "    }\n",
              "  </style>\n",
              "\n",
              "      <script>\n",
              "        const buttonEl =\n",
              "          document.querySelector('#df-9eb33ea6-b4bd-46e4-a9b7-375276915200 button.colab-df-convert');\n",
              "        buttonEl.style.display =\n",
              "          google.colab.kernel.accessAllowed ? 'block' : 'none';\n",
              "\n",
              "        async function convertToInteractive(key) {\n",
              "          const element = document.querySelector('#df-9eb33ea6-b4bd-46e4-a9b7-375276915200');\n",
              "          const dataTable =\n",
              "            await google.colab.kernel.invokeFunction('convertToInteractive',\n",
              "                                                     [key], {});\n",
              "          if (!dataTable) return;\n",
              "\n",
              "          const docLinkHtml = 'Like what you see? Visit the ' +\n",
              "            '<a target=\"_blank\" href=https://colab.research.google.com/notebooks/data_table.ipynb>data table notebook</a>'\n",
              "            + ' to learn more about interactive tables.';\n",
              "          element.innerHTML = '';\n",
              "          dataTable['output_type'] = 'display_data';\n",
              "          await google.colab.output.renderOutput(dataTable, element);\n",
              "          const docLink = document.createElement('div');\n",
              "          docLink.innerHTML = docLinkHtml;\n",
              "          element.appendChild(docLink);\n",
              "        }\n",
              "      </script>\n",
              "    </div>\n",
              "  </div>\n",
              "  "
            ]
          },
          "metadata": {},
          "execution_count": 7
        }
      ]
    },
    {
      "cell_type": "code",
      "source": [
        "# Shuffling the data\n",
        "train_df_shuffled = train_df.sample(frac=1, random_state=42)\n",
        "train_df_shuffled.head()"
      ],
      "metadata": {
        "colab": {
          "base_uri": "https://localhost:8080/",
          "height": 206
        },
        "id": "Fdq7UX-QbAUq",
        "outputId": "31c5705d-c182-4901-c711-eb95e3ad4c5d"
      },
      "execution_count": 8,
      "outputs": [
        {
          "output_type": "execute_result",
          "data": {
            "text/plain": [
              "        id      keyword               location  \\\n",
              "2644  3796  destruction                    NaN   \n",
              "2227  3185       deluge                    NaN   \n",
              "5448  7769       police                     UK   \n",
              "132    191   aftershock                    NaN   \n",
              "6845  9810       trauma  Montgomery County, MD   \n",
              "\n",
              "                                                   text  target  \n",
              "2644  So you have a new weapon that can cause un-ima...       1  \n",
              "2227  The f$&amp;@ing things I do for #GISHWHES Just...       0  \n",
              "5448  DT @georgegalloway: RT @Galloway4Mayor: ÛÏThe...       1  \n",
              "132   Aftershock back to school kick off was great. ...       0  \n",
              "6845  in response to trauma Children of Addicts deve...       0  "
            ],
            "text/html": [
              "\n",
              "  <div id=\"df-0449d631-a211-4b72-a250-d3c2aa371f1c\">\n",
              "    <div class=\"colab-df-container\">\n",
              "      <div>\n",
              "<style scoped>\n",
              "    .dataframe tbody tr th:only-of-type {\n",
              "        vertical-align: middle;\n",
              "    }\n",
              "\n",
              "    .dataframe tbody tr th {\n",
              "        vertical-align: top;\n",
              "    }\n",
              "\n",
              "    .dataframe thead th {\n",
              "        text-align: right;\n",
              "    }\n",
              "</style>\n",
              "<table border=\"1\" class=\"dataframe\">\n",
              "  <thead>\n",
              "    <tr style=\"text-align: right;\">\n",
              "      <th></th>\n",
              "      <th>id</th>\n",
              "      <th>keyword</th>\n",
              "      <th>location</th>\n",
              "      <th>text</th>\n",
              "      <th>target</th>\n",
              "    </tr>\n",
              "  </thead>\n",
              "  <tbody>\n",
              "    <tr>\n",
              "      <th>2644</th>\n",
              "      <td>3796</td>\n",
              "      <td>destruction</td>\n",
              "      <td>NaN</td>\n",
              "      <td>So you have a new weapon that can cause un-ima...</td>\n",
              "      <td>1</td>\n",
              "    </tr>\n",
              "    <tr>\n",
              "      <th>2227</th>\n",
              "      <td>3185</td>\n",
              "      <td>deluge</td>\n",
              "      <td>NaN</td>\n",
              "      <td>The f$&amp;amp;@ing things I do for #GISHWHES Just...</td>\n",
              "      <td>0</td>\n",
              "    </tr>\n",
              "    <tr>\n",
              "      <th>5448</th>\n",
              "      <td>7769</td>\n",
              "      <td>police</td>\n",
              "      <td>UK</td>\n",
              "      <td>DT @georgegalloway: RT @Galloway4Mayor: ÛÏThe...</td>\n",
              "      <td>1</td>\n",
              "    </tr>\n",
              "    <tr>\n",
              "      <th>132</th>\n",
              "      <td>191</td>\n",
              "      <td>aftershock</td>\n",
              "      <td>NaN</td>\n",
              "      <td>Aftershock back to school kick off was great. ...</td>\n",
              "      <td>0</td>\n",
              "    </tr>\n",
              "    <tr>\n",
              "      <th>6845</th>\n",
              "      <td>9810</td>\n",
              "      <td>trauma</td>\n",
              "      <td>Montgomery County, MD</td>\n",
              "      <td>in response to trauma Children of Addicts deve...</td>\n",
              "      <td>0</td>\n",
              "    </tr>\n",
              "  </tbody>\n",
              "</table>\n",
              "</div>\n",
              "      <button class=\"colab-df-convert\" onclick=\"convertToInteractive('df-0449d631-a211-4b72-a250-d3c2aa371f1c')\"\n",
              "              title=\"Convert this dataframe to an interactive table.\"\n",
              "              style=\"display:none;\">\n",
              "        \n",
              "  <svg xmlns=\"http://www.w3.org/2000/svg\" height=\"24px\"viewBox=\"0 0 24 24\"\n",
              "       width=\"24px\">\n",
              "    <path d=\"M0 0h24v24H0V0z\" fill=\"none\"/>\n",
              "    <path d=\"M18.56 5.44l.94 2.06.94-2.06 2.06-.94-2.06-.94-.94-2.06-.94 2.06-2.06.94zm-11 1L8.5 8.5l.94-2.06 2.06-.94-2.06-.94L8.5 2.5l-.94 2.06-2.06.94zm10 10l.94 2.06.94-2.06 2.06-.94-2.06-.94-.94-2.06-.94 2.06-2.06.94z\"/><path d=\"M17.41 7.96l-1.37-1.37c-.4-.4-.92-.59-1.43-.59-.52 0-1.04.2-1.43.59L10.3 9.45l-7.72 7.72c-.78.78-.78 2.05 0 2.83L4 21.41c.39.39.9.59 1.41.59.51 0 1.02-.2 1.41-.59l7.78-7.78 2.81-2.81c.8-.78.8-2.07 0-2.86zM5.41 20L4 18.59l7.72-7.72 1.47 1.35L5.41 20z\"/>\n",
              "  </svg>\n",
              "      </button>\n",
              "      \n",
              "  <style>\n",
              "    .colab-df-container {\n",
              "      display:flex;\n",
              "      flex-wrap:wrap;\n",
              "      gap: 12px;\n",
              "    }\n",
              "\n",
              "    .colab-df-convert {\n",
              "      background-color: #E8F0FE;\n",
              "      border: none;\n",
              "      border-radius: 50%;\n",
              "      cursor: pointer;\n",
              "      display: none;\n",
              "      fill: #1967D2;\n",
              "      height: 32px;\n",
              "      padding: 0 0 0 0;\n",
              "      width: 32px;\n",
              "    }\n",
              "\n",
              "    .colab-df-convert:hover {\n",
              "      background-color: #E2EBFA;\n",
              "      box-shadow: 0px 1px 2px rgba(60, 64, 67, 0.3), 0px 1px 3px 1px rgba(60, 64, 67, 0.15);\n",
              "      fill: #174EA6;\n",
              "    }\n",
              "\n",
              "    [theme=dark] .colab-df-convert {\n",
              "      background-color: #3B4455;\n",
              "      fill: #D2E3FC;\n",
              "    }\n",
              "\n",
              "    [theme=dark] .colab-df-convert:hover {\n",
              "      background-color: #434B5C;\n",
              "      box-shadow: 0px 1px 3px 1px rgba(0, 0, 0, 0.15);\n",
              "      filter: drop-shadow(0px 1px 2px rgba(0, 0, 0, 0.3));\n",
              "      fill: #FFFFFF;\n",
              "    }\n",
              "  </style>\n",
              "\n",
              "      <script>\n",
              "        const buttonEl =\n",
              "          document.querySelector('#df-0449d631-a211-4b72-a250-d3c2aa371f1c button.colab-df-convert');\n",
              "        buttonEl.style.display =\n",
              "          google.colab.kernel.accessAllowed ? 'block' : 'none';\n",
              "\n",
              "        async function convertToInteractive(key) {\n",
              "          const element = document.querySelector('#df-0449d631-a211-4b72-a250-d3c2aa371f1c');\n",
              "          const dataTable =\n",
              "            await google.colab.kernel.invokeFunction('convertToInteractive',\n",
              "                                                     [key], {});\n",
              "          if (!dataTable) return;\n",
              "\n",
              "          const docLinkHtml = 'Like what you see? Visit the ' +\n",
              "            '<a target=\"_blank\" href=https://colab.research.google.com/notebooks/data_table.ipynb>data table notebook</a>'\n",
              "            + ' to learn more about interactive tables.';\n",
              "          element.innerHTML = '';\n",
              "          dataTable['output_type'] = 'display_data';\n",
              "          await google.colab.output.renderOutput(dataTable, element);\n",
              "          const docLink = document.createElement('div');\n",
              "          docLink.innerHTML = docLinkHtml;\n",
              "          element.appendChild(docLink);\n",
              "        }\n",
              "      </script>\n",
              "    </div>\n",
              "  </div>\n",
              "  "
            ]
          },
          "metadata": {},
          "execution_count": 8
        }
      ]
    },
    {
      "cell_type": "code",
      "source": [
        "# How many samples in the dataset\n",
        "train_df.target.value_counts()"
      ],
      "metadata": {
        "colab": {
          "base_uri": "https://localhost:8080/"
        },
        "id": "aq3wTRGYdZzJ",
        "outputId": "834f19cf-6e74-4ec9-bf3a-9b358a67e493"
      },
      "execution_count": 9,
      "outputs": [
        {
          "output_type": "execute_result",
          "data": {
            "text/plain": [
              "0    4342\n",
              "1    3271\n",
              "Name: target, dtype: int64"
            ]
          },
          "metadata": {},
          "execution_count": 9
        }
      ]
    },
    {
      "cell_type": "markdown",
      "source": [
        "Binary classification (target column has 1 or 0)"
      ],
      "metadata": {
        "id": "yJXLx-TmdjKO"
      }
    },
    {
      "cell_type": "code",
      "source": [
        "# How many samples total and in each set:\n",
        "print(f'Total training samples: {len(train_df)}')\n",
        "print(f'Total test samples: {len(test_df)}')\n",
        "print(f'Total samples: {len(train_df) + len(test_df)}')"
      ],
      "metadata": {
        "colab": {
          "base_uri": "https://localhost:8080/"
        },
        "id": "BC6pyBhsdhxN",
        "outputId": "d525513f-ffaf-4254-d439-1f4bb7a6e70b"
      },
      "execution_count": 10,
      "outputs": [
        {
          "output_type": "stream",
          "name": "stdout",
          "text": [
            "Total training samples: 7613\n",
            "Total test samples: 3263\n",
            "Total samples: 10876\n"
          ]
        }
      ]
    },
    {
      "cell_type": "code",
      "source": [
        "# Visualising random samples\n",
        "import random\n",
        "random_index = random.randint(0, len(train_df)-5) # creating random indexes not higher than the total number of samples\n",
        "for row in train_df_shuffled[['text', 'target']][random_index:random_index+5].itertuples(): # turn text and target into a tuple\n",
        "  _, text, target = row\n",
        "  print(f'Target: {target}', '(real disaster)' if target > 0 else '(not real disaster)')\n",
        "  print(f'Text:\\n{text}\\n')\n",
        "  print('---\\n')"
      ],
      "metadata": {
        "colab": {
          "base_uri": "https://localhost:8080/"
        },
        "id": "JChbt8VYd76M",
        "outputId": "b5398812-0346-47d7-a77a-ffc58d470260"
      },
      "execution_count": 11,
      "outputs": [
        {
          "output_type": "stream",
          "name": "stdout",
          "text": [
            "Target: 0 (not real disaster)\n",
            "Text:\n",
            "11 puncture wounds\n",
            "\n",
            "---\n",
            "\n",
            "Target: 0 (not real disaster)\n",
            "Text:\n",
            "I liked a @YouTube video from @skippy6gaming http://t.co/MXhrextrkh Minecraft PS4 - 3 X 2 LAVA DOOR - How To - Tutorial ( PS3 / XBOX\n",
            "\n",
            "---\n",
            "\n",
            "Target: 0 (not real disaster)\n",
            "Text:\n",
            "You Bitches Walking Around Like Yall Hot Shit &amp; Got Bed Bugs &amp; You Burning ????\n",
            "\n",
            "---\n",
            "\n",
            "Target: 0 (not real disaster)\n",
            "Text:\n",
            "Brace yourself @samaritans by Sunday evening you will inundated with thousands of calls from depressed @Arsenal fans http://t.co/HexPc77otN\n",
            "\n",
            "---\n",
            "\n",
            "Target: 0 (not real disaster)\n",
            "Text:\n",
            "https://t.co/oIfN28HpCS @ArianaGrande @ScreamQueens \n",
            "Katherine's death\n",
            "\n",
            "---\n",
            "\n"
          ]
        }
      ]
    },
    {
      "cell_type": "markdown",
      "source": [
        "## Splitting data into datasets"
      ],
      "metadata": {
        "id": "5B9K8wBofBSC"
      }
    },
    {
      "cell_type": "code",
      "source": [
        "from sklearn.model_selection import train_test_split\n",
        "\n",
        "train_sentences, val_sentences, train_labels, val_labels = train_test_split(train_df_shuffled['text'].to_numpy(),\n",
        "                                                                            train_df_shuffled['target'].to_numpy(),\n",
        "                                                                            test_size=0.1, # 10% of training dataset becomes validation dataset\n",
        "                                                                            random_state=42)\n",
        "\n",
        "len(train_sentences), len(train_labels), len(val_sentences), len(val_labels)"
      ],
      "metadata": {
        "colab": {
          "base_uri": "https://localhost:8080/"
        },
        "id": "BCLqwp8TfZ-w",
        "outputId": "f48fc163-fc22-4eb0-9253-998b0329505f"
      },
      "execution_count": 12,
      "outputs": [
        {
          "output_type": "execute_result",
          "data": {
            "text/plain": [
              "(6851, 6851, 762, 762)"
            ]
          },
          "metadata": {},
          "execution_count": 12
        }
      ]
    },
    {
      "cell_type": "code",
      "source": [
        "train_sentences[:10], train_labels[:10]"
      ],
      "metadata": {
        "colab": {
          "base_uri": "https://localhost:8080/"
        },
        "id": "2U2LdY56f6G0",
        "outputId": "9f3710b8-d7b9-4c98-fdb2-5782926e23be"
      },
      "execution_count": 13,
      "outputs": [
        {
          "output_type": "execute_result",
          "data": {
            "text/plain": [
              "(array(['@mogacola @zamtriossu i screamed after hitting tweet',\n",
              "        'Imagine getting flattened by Kurt Zouma',\n",
              "        '@Gurmeetramrahim #MSGDoing111WelfareWorks Green S welfare force ke appx 65000 members har time disaster victim ki help ke liye tyar hai....',\n",
              "        \"@shakjn @C7 @Magnums im shaking in fear he's gonna hack the planet\",\n",
              "        'Somehow find you and I collide http://t.co/Ee8RpOahPk',\n",
              "        '@EvaHanderek @MarleyKnysh great times until the bus driver held us hostage in the mall parking lot lmfao',\n",
              "        'destroy the free fandom honestly',\n",
              "        'Weapons stolen from National Guard Armory in New Albany still missing #Gunsense http://t.co/lKNU8902JE',\n",
              "        '@wfaaweather Pete when will the heat wave pass? Is it really going to be mid month? Frisco Boy Scouts have a canoe trip in Okla.',\n",
              "        'Patient-reported outcomes in long-term survivors of metastatic colorectal cancer - British Journal of Surgery http://t.co/5Yl4DC1Tqt'],\n",
              "       dtype=object),\n",
              " array([0, 0, 1, 0, 0, 1, 1, 0, 1, 1]))"
            ]
          },
          "metadata": {},
          "execution_count": 13
        }
      ]
    },
    {
      "cell_type": "markdown",
      "source": [
        "# Text Vectorization & Embedding"
      ],
      "metadata": {
        "id": "ZO10CoaPgHVM"
      }
    },
    {
      "cell_type": "markdown",
      "source": [
        "## Text Vectorization"
      ],
      "metadata": {
        "id": "RHyD3PmThkNL"
      }
    },
    {
      "cell_type": "code",
      "source": [
        "from tensorflow.keras.layers.experimental.preprocessing import TextVectorization\n",
        "\n",
        "# Finding average number of tokens (words) in the training Tweets\n",
        "round(sum([len(i.split()) for i in train_sentences])/len(train_sentences))"
      ],
      "metadata": {
        "colab": {
          "base_uri": "https://localhost:8080/"
        },
        "id": "lueGKmcYgQZB",
        "outputId": "582ec6fa-c55d-4563-a5af-66efc45af976"
      },
      "execution_count": 14,
      "outputs": [
        {
          "output_type": "execute_result",
          "data": {
            "text/plain": [
              "15"
            ]
          },
          "metadata": {},
          "execution_count": 14
        }
      ]
    },
    {
      "cell_type": "markdown",
      "source": [
        "Have an average of 15 words in each Tweet"
      ],
      "metadata": {
        "id": "ccj9Wd79g4PI"
      }
    },
    {
      "cell_type": "code",
      "source": [
        "max_vocab_length = 10000 # max number of words to have in the vocabulary\n",
        "max_length = 15 # max length the sequences will be\n",
        "\n",
        "text_vectorizer = TextVectorization(max_tokens=max_vocab_length,\n",
        "                                    output_mode='int',\n",
        "                                    output_sequence_length=max_length)\n",
        "\n",
        "# Fit the text vectorizer to the training text\n",
        "text_vectorizer.adapt(train_sentences)"
      ],
      "metadata": {
        "id": "oZcUgHnbgxN6"
      },
      "execution_count": 15,
      "outputs": []
    },
    {
      "cell_type": "code",
      "source": [
        "# Sample sentence to test tokenization\n",
        "sample_sentence = \"There's a flood in my street!\"\n",
        "text_vectorizer([sample_sentence])"
      ],
      "metadata": {
        "colab": {
          "base_uri": "https://localhost:8080/"
        },
        "id": "7Ikm1oGZhazF",
        "outputId": "915f9b56-ec9f-4a4a-b7ca-5638306d1bfe"
      },
      "execution_count": 16,
      "outputs": [
        {
          "output_type": "execute_result",
          "data": {
            "text/plain": [
              "<tf.Tensor: shape=(1, 15), dtype=int64, numpy=\n",
              "array([[264,   3, 232,   4,  13, 698,   0,   0,   0,   0,   0,   0,   0,\n",
              "          0,   0]])>"
            ]
          },
          "metadata": {},
          "execution_count": 16
        }
      ]
    },
    {
      "cell_type": "code",
      "source": [
        "# Choosing a random sentence from the training set and tokenizing it\n",
        "random_sentence = random.choice(train_sentences)\n",
        "print(f'Original text:\\n{random_sentence}\\\n",
        "      \\n\\nVectorized version:')\n",
        "text_vectorizer([random_sentence])"
      ],
      "metadata": {
        "colab": {
          "base_uri": "https://localhost:8080/"
        },
        "id": "OA1pHyiJhzFs",
        "outputId": "7a2f7823-73e5-49b5-99bc-0e7fa7502ebf"
      },
      "execution_count": 17,
      "outputs": [
        {
          "output_type": "stream",
          "name": "stdout",
          "text": [
            "Original text:\n",
            "@Robot_Rainstorm I'm a huge football fan as you know but I've never done fantasy leagues. Patience for a newbie?      \n",
            "\n",
            "Vectorized version:\n"
          ]
        },
        {
          "output_type": "execute_result",
          "data": {
            "text/plain": [
              "<tf.Tensor: shape=(1, 15), dtype=int64, numpy=\n",
              "array([[3459,   32,    3,  775, 1523,  627,   26,   12,  106,   30,  276,\n",
              "         192,  578, 1857,    1]])>"
            ]
          },
          "metadata": {},
          "execution_count": 17
        }
      ]
    },
    {
      "cell_type": "code",
      "source": [
        "# Checking the unique tokens in the vocabulary\n",
        "words_in_vocab = text_vectorizer.get_vocabulary()\n",
        "top_5_words = words_in_vocab[:5] # most common tokens\n",
        "bottom_5_words = words_in_vocab[-5:] # least common tokens\n",
        "print(f'Number of words in vocab: {len(words_in_vocab)}')\n",
        "print(f'Top 5 most common words: {top_5_words}')\n",
        "print(f'Bottom 5 leaat common words: {bottom_5_words}')"
      ],
      "metadata": {
        "colab": {
          "base_uri": "https://localhost:8080/"
        },
        "id": "g-fHgs85iL1f",
        "outputId": "b8d98b4a-e5db-4e49-825c-8fd75f5eb15c"
      },
      "execution_count": 18,
      "outputs": [
        {
          "output_type": "stream",
          "name": "stdout",
          "text": [
            "Number of words in vocab: 10000\n",
            "Top 5 most common words: ['', '[UNK]', 'the', 'a', 'in']\n",
            "Bottom 5 leaat common words: ['pages', 'paeds', 'pads', 'padres', 'paddytomlinson1']\n"
          ]
        }
      ]
    },
    {
      "cell_type": "markdown",
      "source": [
        "Most common words also includes spaces and unknown characters"
      ],
      "metadata": {
        "id": "BdPbCU-Di7qk"
      }
    },
    {
      "cell_type": "markdown",
      "source": [
        "## Embedding"
      ],
      "metadata": {
        "id": "vDPJgEVMjA7C"
      }
    },
    {
      "cell_type": "code",
      "source": [
        "tf.random.set_seed(42)\n",
        "from tensorflow.keras import layers\n",
        "\n",
        "embedding = layers.Embedding(input_dim=max_vocab_length, # input shape\n",
        "                             output_dim=128, # size of embedding vector for each word\n",
        "                             embeddings_initializer='uniform',\n",
        "                             input_length=max_length, # length on inputs\n",
        "                             name='embedding_1')\n",
        "\n",
        "embedding"
      ],
      "metadata": {
        "colab": {
          "base_uri": "https://localhost:8080/"
        },
        "id": "UnBYIspajClP",
        "outputId": "c4a9e9a0-95d1-4dee-ebde-99f1bca23610"
      },
      "execution_count": 19,
      "outputs": [
        {
          "output_type": "execute_result",
          "data": {
            "text/plain": [
              "<keras.layers.core.embedding.Embedding at 0x7f0f80f4ccd0>"
            ]
          },
          "metadata": {},
          "execution_count": 19
        }
      ]
    },
    {
      "cell_type": "code",
      "source": [
        "# Choosing a random sentence to embed\n",
        "random_sentence = random.choice(train_sentences)\n",
        "print(f'Original Text:\\n{random_sentence}\\\n",
        "      \\n\\nEmbedded version:')\n",
        "\n",
        "# Embed the sentence\n",
        "sample_embed = embedding(text_vectorizer([random_sentence]))\n",
        "sample_embed"
      ],
      "metadata": {
        "colab": {
          "base_uri": "https://localhost:8080/"
        },
        "id": "CEfC-Xi9jl7t",
        "outputId": "9499051c-6d42-44f8-a8b3-d022b4956d57"
      },
      "execution_count": 20,
      "outputs": [
        {
          "output_type": "stream",
          "name": "stdout",
          "text": [
            "Original Text:\n",
            "Find out how your fund was used for Typhoon Haiyan in the Philippines. See @DevPeace Haiyan Relief Funds Report http://t.co/JwxrX1LsqO      \n",
            "\n",
            "Embedded version:\n"
          ]
        },
        {
          "output_type": "execute_result",
          "data": {
            "text/plain": [
              "<tf.Tensor: shape=(1, 15, 128), dtype=float32, numpy=\n",
              "array([[[ 0.03485029,  0.04911261,  0.03571523, ...,  0.01977034,\n",
              "         -0.01491714, -0.02422923],\n",
              "        [-0.01993388,  0.04896038,  0.04248408, ..., -0.02667139,\n",
              "          0.03390402, -0.03620647],\n",
              "        [-0.03829565, -0.00466348, -0.03489387, ..., -0.03388911,\n",
              "          0.01853447, -0.04198217],\n",
              "        ...,\n",
              "        [ 0.03266008,  0.01030282, -0.04545373, ...,  0.02160433,\n",
              "          0.02466086, -0.00090617],\n",
              "        [ 0.00636765, -0.04213103,  0.00057979, ...,  0.00943966,\n",
              "         -0.02242447,  0.03840183],\n",
              "        [-0.00760156, -0.00083926,  0.01209547, ..., -0.02693793,\n",
              "          0.02486527,  0.04483458]]], dtype=float32)>"
            ]
          },
          "metadata": {},
          "execution_count": 20
        }
      ]
    },
    {
      "cell_type": "code",
      "source": [
        "# Single token's embedding\n",
        "sample_embed[0][0]"
      ],
      "metadata": {
        "colab": {
          "base_uri": "https://localhost:8080/"
        },
        "id": "4n8sVW8Zj9IL",
        "outputId": "d4e45813-ee1d-43bd-c8e5-32c978d06597"
      },
      "execution_count": 21,
      "outputs": [
        {
          "output_type": "execute_result",
          "data": {
            "text/plain": [
              "<tf.Tensor: shape=(128,), dtype=float32, numpy=\n",
              "array([ 0.03485029,  0.04911261,  0.03571523,  0.04636883,  0.0033218 ,\n",
              "       -0.0105481 , -0.02807251, -0.02617369,  0.01344467, -0.01588423,\n",
              "        0.01203083, -0.04747386,  0.03357292, -0.02569668,  0.04441171,\n",
              "       -0.02126825, -0.02638829,  0.01518936,  0.01513971,  0.03148028,\n",
              "       -0.01607119,  0.03001454, -0.03321354,  0.04832259, -0.01619433,\n",
              "       -0.02640407,  0.04140613, -0.00694331, -0.00726299, -0.04228579,\n",
              "        0.03276185,  0.03050974, -0.04742268, -0.04288065,  0.00889895,\n",
              "       -0.005881  , -0.01616858,  0.01998104,  0.04175882, -0.01535013,\n",
              "        0.02720592, -0.0076132 ,  0.01892718, -0.04493362,  0.03135016,\n",
              "        0.03945953,  0.01998625,  0.04258757, -0.03121008,  0.00859607,\n",
              "       -0.04305066, -0.00728382, -0.04844251,  0.00448197,  0.02786583,\n",
              "       -0.02061808,  0.04100475, -0.01152045, -0.04212972, -0.02587363,\n",
              "       -0.01706441, -0.03170549, -0.02270784, -0.003074  ,  0.0083954 ,\n",
              "        0.00879465, -0.00976836,  0.01922997, -0.02464224, -0.02354508,\n",
              "       -0.02070336, -0.03140693, -0.0457762 ,  0.04485545, -0.04170353,\n",
              "       -0.00406349, -0.02480218, -0.0494487 ,  0.03042031, -0.01720209,\n",
              "       -0.04769713,  0.02401677, -0.02965177, -0.02268411,  0.00090983,\n",
              "       -0.00863627, -0.03721832, -0.02803748,  0.02548109,  0.04005497,\n",
              "        0.018802  , -0.0461134 , -0.00034541,  0.0189083 ,  0.00825129,\n",
              "       -0.04702602,  0.01956064,  0.00533568,  0.00740695, -0.04080989,\n",
              "       -0.01907113, -0.04393119,  0.02092239,  0.0273989 , -0.02996608,\n",
              "        0.04335103, -0.04835284,  0.03683512,  0.04092247,  0.04336208,\n",
              "        0.0495739 ,  0.04753933,  0.03584559, -0.0020042 , -0.04192214,\n",
              "        0.02250731, -0.04935887,  0.04656332,  0.02895952, -0.00064309,\n",
              "        0.04954929,  0.04144004,  0.00281876,  0.01077219, -0.03424137,\n",
              "        0.01977034, -0.01491714, -0.02422923], dtype=float32)>"
            ]
          },
          "metadata": {},
          "execution_count": 21
        }
      ]
    },
    {
      "cell_type": "markdown",
      "source": [
        "# Baseline Model"
      ],
      "metadata": {
        "id": "O9l4D86xkM98"
      }
    },
    {
      "cell_type": "markdown",
      "source": [
        "Using term frequency - inverse document frequency (TF-IDF) to convert words to numbers and model them using Multinomial Naive Bayes algorithm (from the SK-learn ML map)\n"
      ],
      "metadata": {
        "id": "mZzrDvjmkd0z"
      }
    },
    {
      "cell_type": "code",
      "source": [
        "from sklearn.feature_extraction.text import TfidfVectorizer\n",
        "from sklearn.naive_bayes import MultinomialNB\n",
        "from sklearn.pipeline import Pipeline\n",
        "\n",
        "# Create a tokenization and modelling pipeline\n",
        "model_0 = Pipeline([\n",
        "                    ('tfidf', TfidfVectorizer()), # convert words into numbers\n",
        "                    ('clf', MultinomialNB()) # model the text using classifier\n",
        "])\n",
        "\n",
        "# Fit the pipeline to training data\n",
        "model_0.fit(train_sentences, train_labels)"
      ],
      "metadata": {
        "colab": {
          "base_uri": "https://localhost:8080/",
          "height": 127
        },
        "id": "fOEAxxfkkclQ",
        "outputId": "1f75f183-21c6-4200-956a-7cf6406d8ed2"
      },
      "execution_count": 22,
      "outputs": [
        {
          "output_type": "execute_result",
          "data": {
            "text/plain": [
              "Pipeline(steps=[('tfidf', TfidfVectorizer()), ('clf', MultinomialNB())])"
            ],
            "text/html": [
              "<style>#sk-container-id-1 {color: black;background-color: white;}#sk-container-id-1 pre{padding: 0;}#sk-container-id-1 div.sk-toggleable {background-color: white;}#sk-container-id-1 label.sk-toggleable__label {cursor: pointer;display: block;width: 100%;margin-bottom: 0;padding: 0.3em;box-sizing: border-box;text-align: center;}#sk-container-id-1 label.sk-toggleable__label-arrow:before {content: \"▸\";float: left;margin-right: 0.25em;color: #696969;}#sk-container-id-1 label.sk-toggleable__label-arrow:hover:before {color: black;}#sk-container-id-1 div.sk-estimator:hover label.sk-toggleable__label-arrow:before {color: black;}#sk-container-id-1 div.sk-toggleable__content {max-height: 0;max-width: 0;overflow: hidden;text-align: left;background-color: #f0f8ff;}#sk-container-id-1 div.sk-toggleable__content pre {margin: 0.2em;color: black;border-radius: 0.25em;background-color: #f0f8ff;}#sk-container-id-1 input.sk-toggleable__control:checked~div.sk-toggleable__content {max-height: 200px;max-width: 100%;overflow: auto;}#sk-container-id-1 input.sk-toggleable__control:checked~label.sk-toggleable__label-arrow:before {content: \"▾\";}#sk-container-id-1 div.sk-estimator input.sk-toggleable__control:checked~label.sk-toggleable__label {background-color: #d4ebff;}#sk-container-id-1 div.sk-label input.sk-toggleable__control:checked~label.sk-toggleable__label {background-color: #d4ebff;}#sk-container-id-1 input.sk-hidden--visually {border: 0;clip: rect(1px 1px 1px 1px);clip: rect(1px, 1px, 1px, 1px);height: 1px;margin: -1px;overflow: hidden;padding: 0;position: absolute;width: 1px;}#sk-container-id-1 div.sk-estimator {font-family: monospace;background-color: #f0f8ff;border: 1px dotted black;border-radius: 0.25em;box-sizing: border-box;margin-bottom: 0.5em;}#sk-container-id-1 div.sk-estimator:hover {background-color: #d4ebff;}#sk-container-id-1 div.sk-parallel-item::after {content: \"\";width: 100%;border-bottom: 1px solid gray;flex-grow: 1;}#sk-container-id-1 div.sk-label:hover label.sk-toggleable__label {background-color: #d4ebff;}#sk-container-id-1 div.sk-serial::before {content: \"\";position: absolute;border-left: 1px solid gray;box-sizing: border-box;top: 0;bottom: 0;left: 50%;z-index: 0;}#sk-container-id-1 div.sk-serial {display: flex;flex-direction: column;align-items: center;background-color: white;padding-right: 0.2em;padding-left: 0.2em;position: relative;}#sk-container-id-1 div.sk-item {position: relative;z-index: 1;}#sk-container-id-1 div.sk-parallel {display: flex;align-items: stretch;justify-content: center;background-color: white;position: relative;}#sk-container-id-1 div.sk-item::before, #sk-container-id-1 div.sk-parallel-item::before {content: \"\";position: absolute;border-left: 1px solid gray;box-sizing: border-box;top: 0;bottom: 0;left: 50%;z-index: -1;}#sk-container-id-1 div.sk-parallel-item {display: flex;flex-direction: column;z-index: 1;position: relative;background-color: white;}#sk-container-id-1 div.sk-parallel-item:first-child::after {align-self: flex-end;width: 50%;}#sk-container-id-1 div.sk-parallel-item:last-child::after {align-self: flex-start;width: 50%;}#sk-container-id-1 div.sk-parallel-item:only-child::after {width: 0;}#sk-container-id-1 div.sk-dashed-wrapped {border: 1px dashed gray;margin: 0 0.4em 0.5em 0.4em;box-sizing: border-box;padding-bottom: 0.4em;background-color: white;}#sk-container-id-1 div.sk-label label {font-family: monospace;font-weight: bold;display: inline-block;line-height: 1.2em;}#sk-container-id-1 div.sk-label-container {text-align: center;}#sk-container-id-1 div.sk-container {/* jupyter's `normalize.less` sets `[hidden] { display: none; }` but bootstrap.min.css set `[hidden] { display: none !important; }` so we also need the `!important` here to be able to override the default hidden behavior on the sphinx rendered scikit-learn.org. See: https://github.com/scikit-learn/scikit-learn/issues/21755 */display: inline-block !important;position: relative;}#sk-container-id-1 div.sk-text-repr-fallback {display: none;}</style><div id=\"sk-container-id-1\" class=\"sk-top-container\"><div class=\"sk-text-repr-fallback\"><pre>Pipeline(steps=[(&#x27;tfidf&#x27;, TfidfVectorizer()), (&#x27;clf&#x27;, MultinomialNB())])</pre><b>In a Jupyter environment, please rerun this cell to show the HTML representation or trust the notebook. <br />On GitHub, the HTML representation is unable to render, please try loading this page with nbviewer.org.</b></div><div class=\"sk-container\" hidden><div class=\"sk-item sk-dashed-wrapped\"><div class=\"sk-label-container\"><div class=\"sk-label sk-toggleable\"><input class=\"sk-toggleable__control sk-hidden--visually\" id=\"sk-estimator-id-1\" type=\"checkbox\" ><label for=\"sk-estimator-id-1\" class=\"sk-toggleable__label sk-toggleable__label-arrow\">Pipeline</label><div class=\"sk-toggleable__content\"><pre>Pipeline(steps=[(&#x27;tfidf&#x27;, TfidfVectorizer()), (&#x27;clf&#x27;, MultinomialNB())])</pre></div></div></div><div class=\"sk-serial\"><div class=\"sk-item\"><div class=\"sk-estimator sk-toggleable\"><input class=\"sk-toggleable__control sk-hidden--visually\" id=\"sk-estimator-id-2\" type=\"checkbox\" ><label for=\"sk-estimator-id-2\" class=\"sk-toggleable__label sk-toggleable__label-arrow\">TfidfVectorizer</label><div class=\"sk-toggleable__content\"><pre>TfidfVectorizer()</pre></div></div></div><div class=\"sk-item\"><div class=\"sk-estimator sk-toggleable\"><input class=\"sk-toggleable__control sk-hidden--visually\" id=\"sk-estimator-id-3\" type=\"checkbox\" ><label for=\"sk-estimator-id-3\" class=\"sk-toggleable__label sk-toggleable__label-arrow\">MultinomialNB</label><div class=\"sk-toggleable__content\"><pre>MultinomialNB()</pre></div></div></div></div></div></div></div>"
            ]
          },
          "metadata": {},
          "execution_count": 22
        }
      ]
    },
    {
      "cell_type": "code",
      "source": [
        "# Evaluate the baseline score\n",
        "baseline_score = model_0.score(val_sentences, val_labels)\n",
        "print(f'Baseline accuracy: {baseline_score*100:.2f}%')"
      ],
      "metadata": {
        "colab": {
          "base_uri": "https://localhost:8080/"
        },
        "id": "EEPzadztnRvv",
        "outputId": "de724584-14be-4337-8ca5-32863c32b07e"
      },
      "execution_count": 23,
      "outputs": [
        {
          "output_type": "stream",
          "name": "stdout",
          "text": [
            "Baseline accuracy: 79.27%\n"
          ]
        }
      ]
    },
    {
      "cell_type": "code",
      "source": [
        "# Make predictions\n",
        "baseline_preds = model_0.predict(val_sentences)\n",
        "baseline_preds[:20]"
      ],
      "metadata": {
        "colab": {
          "base_uri": "https://localhost:8080/"
        },
        "id": "ZytQYMQ8noRw",
        "outputId": "12d79902-5250-4679-ca78-0f1c4a3872e8"
      },
      "execution_count": 24,
      "outputs": [
        {
          "output_type": "execute_result",
          "data": {
            "text/plain": [
              "array([1, 1, 1, 0, 0, 1, 1, 1, 1, 0, 0, 1, 0, 0, 0, 0, 0, 0, 0, 1])"
            ]
          },
          "metadata": {},
          "execution_count": 24
        }
      ]
    },
    {
      "cell_type": "code",
      "source": [
        "from helper_functions_TF import calculate_results\n",
        "\n",
        "# Baseline results\n",
        "baseline_results = calculate_results(y_true=val_labels,\n",
        "                                     y_pred=baseline_preds)\n",
        "baseline_results"
      ],
      "metadata": {
        "colab": {
          "base_uri": "https://localhost:8080/"
        },
        "id": "gdwofKjLnxjU",
        "outputId": "6aa69efc-2b60-45b5-e192-9b72036a0768"
      },
      "execution_count": 25,
      "outputs": [
        {
          "output_type": "execute_result",
          "data": {
            "text/plain": [
              "{'accuracy': 79.26509186351706,\n",
              " 'precision': 0.8111390004213173,\n",
              " 'recall': 0.7926509186351706,\n",
              " 'f1': 0.7862189758049549}"
            ]
          },
          "metadata": {},
          "execution_count": 25
        }
      ]
    },
    {
      "cell_type": "markdown",
      "source": [
        "# Model 1 - Dense Model"
      ],
      "metadata": {
        "id": "OZ5QREftoEHY"
      }
    },
    {
      "cell_type": "markdown",
      "source": [
        "* Single-layer model\n",
        "  * Takes text and labels as input, tokenizes the text, creates an embedding, finds average of the embedding and then passes the average through a FC layer\n"
      ],
      "metadata": {
        "id": "3f1GTwQw2CGw"
      }
    },
    {
      "cell_type": "code",
      "source": [
        "# Create callback for tensorboard\n",
        "from helper_functions_TF import create_tensorboard_callback\n",
        "SAVE_DIR = 'model_logs' # create a directory to save the logs"
      ],
      "metadata": {
        "id": "S484geTJoKe1"
      },
      "execution_count": 26,
      "outputs": []
    },
    {
      "cell_type": "code",
      "source": [
        "# Build model with Functional API\n",
        "from tensorflow.keras import layers\n",
        "inputs = layers.Input(shape=(1,), dtype='string') # inputs are 1D strings\n",
        "x = text_vectorizer(inputs) # turn input text to numbers\n",
        "x = embedding(x) # create embedding of text\n",
        "x = layers.GlobalAveragePooling1D()(x) # lower the dimensionality of the embedding\n",
        "outputs = layers.Dense(1, activation='sigmoid')(x) # Binary classification, so sigmoid activation\n",
        "model_1 = tf.keras.Model(inputs, outputs, name='model_1_dense')"
      ],
      "metadata": {
        "id": "jpQQ_dwo2fd7"
      },
      "execution_count": 29,
      "outputs": []
    },
    {
      "cell_type": "code",
      "source": [
        "# Compile the model\n",
        "model_1.compile(loss='binary_crossentropy',\n",
        "                optimizer=tf.keras.optimizers.Adam(),\n",
        "                metrics=['accuracy'])"
      ],
      "metadata": {
        "id": "kDsQMbRM3KZc"
      },
      "execution_count": 30,
      "outputs": []
    },
    {
      "cell_type": "code",
      "source": [
        "model_1.summary()"
      ],
      "metadata": {
        "colab": {
          "base_uri": "https://localhost:8080/"
        },
        "id": "crg_-GPR3dQP",
        "outputId": "f59dc181-5e8f-4c4b-86e8-94d2e76d9be2"
      },
      "execution_count": 32,
      "outputs": [
        {
          "output_type": "stream",
          "name": "stdout",
          "text": [
            "Model: \"model_1_dense\"\n",
            "_________________________________________________________________\n",
            " Layer (type)                Output Shape              Param #   \n",
            "=================================================================\n",
            " input_2 (InputLayer)        [(None, 1)]               0         \n",
            "                                                                 \n",
            " text_vectorization (TextVec  (None, 15)               0         \n",
            " torization)                                                     \n",
            "                                                                 \n",
            " embedding_1 (Embedding)     (None, 15, 128)           1280000   \n",
            "                                                                 \n",
            " global_average_pooling1d_1   (None, 128)              0         \n",
            " (GlobalAveragePooling1D)                                        \n",
            "                                                                 \n",
            " dense_1 (Dense)             (None, 1)                 129       \n",
            "                                                                 \n",
            "=================================================================\n",
            "Total params: 1,280,129\n",
            "Trainable params: 1,280,129\n",
            "Non-trainable params: 0\n",
            "_________________________________________________________________\n"
          ]
        }
      ]
    },
    {
      "cell_type": "code",
      "source": [
        "# Fit the model\n",
        "model_1_history = model_1.fit(train_sentences,\n",
        "                              train_labels,\n",
        "                              epochs=5,\n",
        "                              validation_data=(val_sentences, val_labels),\n",
        "                              callbacks=[create_tensorboard_callback(dir_name=SAVE_DIR,\n",
        "                                                                     experiment_name='simple_dense_model')])"
      ],
      "metadata": {
        "colab": {
          "base_uri": "https://localhost:8080/"
        },
        "id": "nubiBz4m3eci",
        "outputId": "b1793971-8065-4ba0-fdec-3eddb7ddb4c4"
      },
      "execution_count": 33,
      "outputs": [
        {
          "output_type": "stream",
          "name": "stdout",
          "text": [
            "Saving TensorBoard log files to: model_logs/simple_dense_model/20230608-115810\n",
            "Epoch 1/5\n",
            "215/215 [==============================] - 3s 11ms/step - loss: 0.6103 - accuracy: 0.6944 - val_loss: 0.5366 - val_accuracy: 0.7559\n",
            "Epoch 2/5\n",
            "215/215 [==============================] - 3s 12ms/step - loss: 0.4417 - accuracy: 0.8193 - val_loss: 0.4692 - val_accuracy: 0.7822\n",
            "Epoch 3/5\n",
            "215/215 [==============================] - 2s 10ms/step - loss: 0.3468 - accuracy: 0.8613 - val_loss: 0.4590 - val_accuracy: 0.7887\n",
            "Epoch 4/5\n",
            "215/215 [==============================] - 2s 10ms/step - loss: 0.2853 - accuracy: 0.8929 - val_loss: 0.4639 - val_accuracy: 0.7887\n",
            "Epoch 5/5\n",
            "215/215 [==============================] - 2s 10ms/step - loss: 0.2384 - accuracy: 0.9120 - val_loss: 0.4763 - val_accuracy: 0.7874\n"
          ]
        }
      ]
    },
    {
      "cell_type": "code",
      "source": [
        "# Evaluate results\n",
        "model_1.evaluate(val_sentences, val_labels)"
      ],
      "metadata": {
        "colab": {
          "base_uri": "https://localhost:8080/"
        },
        "id": "P8Xiss_M3w0W",
        "outputId": "50aedbdc-3d9f-48ad-af6b-a3aac7d88fd7"
      },
      "execution_count": 34,
      "outputs": [
        {
          "output_type": "stream",
          "name": "stdout",
          "text": [
            "24/24 [==============================] - 0s 1ms/step - loss: 0.4763 - accuracy: 0.7874\n"
          ]
        },
        {
          "output_type": "execute_result",
          "data": {
            "text/plain": [
              "[0.4763111472129822, 0.787401556968689]"
            ]
          },
          "metadata": {},
          "execution_count": 34
        }
      ]
    },
    {
      "cell_type": "code",
      "source": [
        "# Making predictions\n",
        "model_1_probs = model_1.predict(val_sentences)\n",
        "model_1_probs[:10]"
      ],
      "metadata": {
        "colab": {
          "base_uri": "https://localhost:8080/"
        },
        "id": "PYH6TwIp352e",
        "outputId": "87ab2436-8159-4998-a124-f620f1ba6524"
      },
      "execution_count": 36,
      "outputs": [
        {
          "output_type": "stream",
          "name": "stdout",
          "text": [
            "24/24 [==============================] - 0s 2ms/step\n"
          ]
        },
        {
          "output_type": "execute_result",
          "data": {
            "text/plain": [
              "array([[0.40927267],\n",
              "       [0.74567866],\n",
              "       [0.99786955],\n",
              "       [0.10812619],\n",
              "       [0.11578003],\n",
              "       [0.9349096 ],\n",
              "       [0.9144633 ],\n",
              "       [0.99298847],\n",
              "       [0.97071517],\n",
              "       [0.26010868]], dtype=float32)"
            ]
          },
          "metadata": {},
          "execution_count": 36
        }
      ]
    },
    {
      "cell_type": "code",
      "source": [
        "# Turn prediction probabilities into prediction classes of tensors\n",
        "model_1_preds = tf.squeeze(tf.round(model_1_probs)) # remove single dimension\n",
        "model_1_preds[:10]"
      ],
      "metadata": {
        "colab": {
          "base_uri": "https://localhost:8080/"
        },
        "id": "G2sSYr-c4QxE",
        "outputId": "fc0ca827-ea44-46ee-ace7-158a3308f5fd"
      },
      "execution_count": 37,
      "outputs": [
        {
          "output_type": "execute_result",
          "data": {
            "text/plain": [
              "<tf.Tensor: shape=(10,), dtype=float32, numpy=array([0., 1., 1., 0., 0., 1., 1., 1., 1., 0.], dtype=float32)>"
            ]
          },
          "metadata": {},
          "execution_count": 37
        }
      ]
    },
    {
      "cell_type": "code",
      "source": [
        "model_1_probs.shape, model_1_preds.shape"
      ],
      "metadata": {
        "colab": {
          "base_uri": "https://localhost:8080/"
        },
        "id": "uSq_5U-a4qxv",
        "outputId": "f1148d9e-913d-457f-b9c5-29a79a64a054"
      },
      "execution_count": 39,
      "outputs": [
        {
          "output_type": "execute_result",
          "data": {
            "text/plain": [
              "((762, 1), TensorShape([762]))"
            ]
          },
          "metadata": {},
          "execution_count": 39
        }
      ]
    },
    {
      "cell_type": "code",
      "source": [
        "# Calculating metrics\n",
        "model_1_results = calculate_results(y_true=val_labels,\n",
        "                                    y_pred=model_1_preds)\n",
        "model_1_results"
      ],
      "metadata": {
        "colab": {
          "base_uri": "https://localhost:8080/"
        },
        "id": "52RqMe-D4grI",
        "outputId": "53184a75-fa3d-40a1-8355-1114d40b459c"
      },
      "execution_count": 40,
      "outputs": [
        {
          "output_type": "execute_result",
          "data": {
            "text/plain": [
              "{'accuracy': 78.74015748031496,\n",
              " 'precision': 0.7914920592553047,\n",
              " 'recall': 0.7874015748031497,\n",
              " 'f1': 0.7846966492209201}"
            ]
          },
          "metadata": {},
          "execution_count": 40
        }
      ]
    },
    {
      "cell_type": "code",
      "source": [
        "## Function to compare results to the baseline results\n",
        "def compare_baseline_to_new_results(baseline_results, new_model_results):\n",
        "  for key, value in baseline_results.items():\n",
        "    print(f'Baseline {key}: {value:.2f}, New {key}: {new_model_results[key]:.2f}, Difference: {new_model_results[key]-value:.2f}')\n",
        "\n",
        "compare_baseline_to_new_results(baseline_results=baseline_results,\n",
        "                                new_model_results=model_1_results)"
      ],
      "metadata": {
        "colab": {
          "base_uri": "https://localhost:8080/"
        },
        "id": "5jN9E-XP43yG",
        "outputId": "e095b322-2e03-4b2f-c795-b7a3f927b810"
      },
      "execution_count": 41,
      "outputs": [
        {
          "output_type": "stream",
          "name": "stdout",
          "text": [
            "Baseline accuracy: 79.27, New accuracy: 78.74, Difference: -0.52\n",
            "Baseline precision: 0.81, New precision: 0.79, Difference: -0.02\n",
            "Baseline recall: 0.79, New recall: 0.79, Difference: -0.01\n",
            "Baseline f1: 0.79, New f1: 0.78, Difference: -0.00\n"
          ]
        }
      ]
    },
    {
      "cell_type": "markdown",
      "source": [
        "## Visualising learned embeddings"
      ],
      "metadata": {
        "id": "1S8NJLNi5lKb"
      }
    },
    {
      "cell_type": "markdown",
      "source": [
        "Model 1 learned a way of representing words as feature vectors by passing over the training data"
      ],
      "metadata": {
        "id": "-g_9hgAg6EKt"
      }
    },
    {
      "cell_type": "code",
      "source": [
        "# Get the weights matrix of the embedding layer (numerical patterns between the text in the training set the model learned)\n",
        "embed_weights = model_1.get_layer('embedding_1').get_weights()[0]\n",
        "print(embed_weights.shape) # same size as vocab size and embedding_dim (each word is an embedding_dim size vector)"
      ],
      "metadata": {
        "colab": {
          "base_uri": "https://localhost:8080/"
        },
        "id": "Yb-zOhvL5q7a",
        "outputId": "6453b7a1-061d-4882-9d4e-c9ee5bb56050"
      },
      "execution_count": 42,
      "outputs": [
        {
          "output_type": "stream",
          "name": "stdout",
          "text": [
            "(10000, 128)\n"
          ]
        }
      ]
    },
    {
      "cell_type": "markdown",
      "source": [
        "## Embedding Projector Tool"
      ],
      "metadata": {
        "id": "Tkzsng4U6l40"
      }
    },
    {
      "cell_type": "markdown",
      "source": [
        "Requires 2 files:\n",
        "*   Embedding vectors (embedding weights)\n",
        "*   Meta Data of the embedding vectors (the words they represent - vocabulary)\n",
        "\n",
        "Compresses 128D feature vector into 3D space and helps visualise what words the model has grouped together.\n",
        "\n"
      ],
      "metadata": {
        "id": "pAJUloR96uOt"
      }
    },
    {
      "cell_type": "code",
      "source": [
        "# Adapted from https://www.tensorflow.org/text/guide/word_embeddings#retrieve_the_trained_word_embeddings_and_save_them_to_disk\n",
        "import io\n",
        "\n",
        "# Create output writers\n",
        "out_v = io.open('embedding_vectors.tsv', 'w', encoding='utf-8')\n",
        "out_m = io.open('embedding_metadata.tsv', 'w', encoding='utf-8')\n",
        "\n",
        "# Write embedding vectors and words to file\n",
        "for num, word in enumerate(words_in_vocab):\n",
        "  if num == 0:\n",
        "    continue # skip padding token\n",
        "  vec = embed_weights[num]\n",
        "  out_m.write(word + '\\n') # write words to file\n",
        "  out_v.write('\\t'.join([str(x) for x in vec]) + '\\n') # write corresponding word vector to file\n",
        "out_v.close()\n",
        "out_m.close()\n",
        "\n",
        "# Download files locally to upload to Embedding Projector\n",
        "try:\n",
        "  from google.colab import files\n",
        "except ImportError:\n",
        "  pass\n",
        "else:\n",
        "  files.download('embedding_vectors.tsv')\n",
        "  files.download('embedding_metadata.tsv')"
      ],
      "metadata": {
        "colab": {
          "base_uri": "https://localhost:8080/",
          "height": 17
        },
        "id": "mXFy9K-86r4C",
        "outputId": "965018f7-b3ca-4906-fae7-dd19fd160a4a"
      },
      "execution_count": 44,
      "outputs": [
        {
          "output_type": "display_data",
          "data": {
            "text/plain": [
              "<IPython.core.display.Javascript object>"
            ],
            "application/javascript": [
              "\n",
              "    async function download(id, filename, size) {\n",
              "      if (!google.colab.kernel.accessAllowed) {\n",
              "        return;\n",
              "      }\n",
              "      const div = document.createElement('div');\n",
              "      const label = document.createElement('label');\n",
              "      label.textContent = `Downloading \"${filename}\": `;\n",
              "      div.appendChild(label);\n",
              "      const progress = document.createElement('progress');\n",
              "      progress.max = size;\n",
              "      div.appendChild(progress);\n",
              "      document.body.appendChild(div);\n",
              "\n",
              "      const buffers = [];\n",
              "      let downloaded = 0;\n",
              "\n",
              "      const channel = await google.colab.kernel.comms.open(id);\n",
              "      // Send a message to notify the kernel that we're ready.\n",
              "      channel.send({})\n",
              "\n",
              "      for await (const message of channel.messages) {\n",
              "        // Send a message to notify the kernel that we're ready.\n",
              "        channel.send({})\n",
              "        if (message.buffers) {\n",
              "          for (const buffer of message.buffers) {\n",
              "            buffers.push(buffer);\n",
              "            downloaded += buffer.byteLength;\n",
              "            progress.value = downloaded;\n",
              "          }\n",
              "        }\n",
              "      }\n",
              "      const blob = new Blob(buffers, {type: 'application/binary'});\n",
              "      const a = document.createElement('a');\n",
              "      a.href = window.URL.createObjectURL(blob);\n",
              "      a.download = filename;\n",
              "      div.appendChild(a);\n",
              "      a.click();\n",
              "      div.remove();\n",
              "    }\n",
              "  "
            ]
          },
          "metadata": {}
        },
        {
          "output_type": "display_data",
          "data": {
            "text/plain": [
              "<IPython.core.display.Javascript object>"
            ],
            "application/javascript": [
              "download(\"download_ea14c98d-ddf7-4fe6-ba41-5ec531defe1f\", \"embedding_vectors.tsv\", 15373453)"
            ]
          },
          "metadata": {}
        },
        {
          "output_type": "display_data",
          "data": {
            "text/plain": [
              "<IPython.core.display.Javascript object>"
            ],
            "application/javascript": [
              "\n",
              "    async function download(id, filename, size) {\n",
              "      if (!google.colab.kernel.accessAllowed) {\n",
              "        return;\n",
              "      }\n",
              "      const div = document.createElement('div');\n",
              "      const label = document.createElement('label');\n",
              "      label.textContent = `Downloading \"${filename}\": `;\n",
              "      div.appendChild(label);\n",
              "      const progress = document.createElement('progress');\n",
              "      progress.max = size;\n",
              "      div.appendChild(progress);\n",
              "      document.body.appendChild(div);\n",
              "\n",
              "      const buffers = [];\n",
              "      let downloaded = 0;\n",
              "\n",
              "      const channel = await google.colab.kernel.comms.open(id);\n",
              "      // Send a message to notify the kernel that we're ready.\n",
              "      channel.send({})\n",
              "\n",
              "      for await (const message of channel.messages) {\n",
              "        // Send a message to notify the kernel that we're ready.\n",
              "        channel.send({})\n",
              "        if (message.buffers) {\n",
              "          for (const buffer of message.buffers) {\n",
              "            buffers.push(buffer);\n",
              "            downloaded += buffer.byteLength;\n",
              "            progress.value = downloaded;\n",
              "          }\n",
              "        }\n",
              "      }\n",
              "      const blob = new Blob(buffers, {type: 'application/binary'});\n",
              "      const a = document.createElement('a');\n",
              "      a.href = window.URL.createObjectURL(blob);\n",
              "      a.download = filename;\n",
              "      div.appendChild(a);\n",
              "      a.click();\n",
              "      div.remove();\n",
              "    }\n",
              "  "
            ]
          },
          "metadata": {}
        },
        {
          "output_type": "display_data",
          "data": {
            "text/plain": [
              "<IPython.core.display.Javascript object>"
            ],
            "application/javascript": [
              "download(\"download_e5a58441-365f-4c1b-bda6-9663baf4ab69\", \"embedding_metadata.tsv\", 80388)"
            ]
          },
          "metadata": {}
        }
      ]
    },
    {
      "cell_type": "markdown",
      "source": [
        "Go to http://projector.tensorflow.org/\n",
        "* Load data\n",
        "* Upload the 2 downloaded files\n",
        "* Change to PCA\n",
        "\n",
        "![image.png](data:image/png;base64,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)"
      ],
      "metadata": {
        "id": "TA3rcFGo8vkV"
      }
    },
    {
      "cell_type": "markdown",
      "source": [
        "# Model 2: LSTM"
      ],
      "metadata": {
        "id": "0Q5Ym6TQ8LYt"
      }
    },
    {
      "cell_type": "code",
      "source": [
        "# Creating an Embeddings layer (new embedding for each model to prevent data leakage)\n",
        "tf.random.set_seed(42)\n",
        "from tensorflow.keras import layers\n",
        "model_2_embedding = layers.Embedding(input_dim=max_vocab_length,\n",
        "                                     output_dim=128,\n",
        "                                     embeddings_initializer='uniform',\n",
        "                                     input_length=max_length,\n",
        "                                     name='embedding_2')\n",
        "\n",
        "# Create LSTM model\n",
        "inputs=layers.Input(shape=(1,), dtype='string')\n",
        "x = text_vectorizer(inputs)\n",
        "x = model_2_embedding(x)\n",
        "print(x.shape)\n",
        "# x = layers.LSTM(64, return_sequences=True)(x) # returns vector for each word in the tweet (can stack RNN cells as long as return_sequences=True)\n",
        "x = layers.LSTM(64)(x) # vector for whole sequence\n",
        "print(x.shape)\n",
        "# x = layers.Dense(64, activation='relu')(x) # optional dense layer on top of output of LSTM cell\n",
        "outputs = layers.Dense(1, activation='sigmoid')(x)\n",
        "model_2 = tf.keras.Model(inputs, outputs, name='model_2_LSTM')"
      ],
      "metadata": {
        "colab": {
          "base_uri": "https://localhost:8080/"
        },
        "id": "_vQ_Z6Bi9iSF",
        "outputId": "67d3b4d1-57a9-4a3a-f513-2b1d543b5490"
      },
      "execution_count": 45,
      "outputs": [
        {
          "output_type": "stream",
          "name": "stdout",
          "text": [
            "(None, 15, 128)\n",
            "(None, 64)\n"
          ]
        }
      ]
    },
    {
      "cell_type": "code",
      "source": [
        "# Compile the model\n",
        "model_2.compile(loss='binary_crossentropy',\n",
        "                optimizer=tf.keras.optimizers.Adam(),\n",
        "                metrics=['accuracy'])\n",
        "\n",
        "model_2.summary()"
      ],
      "metadata": {
        "colab": {
          "base_uri": "https://localhost:8080/"
        },
        "id": "faBX4EUn_DPy",
        "outputId": "7cbc64cd-e0ed-4057-e924-cd52d7fded5b"
      },
      "execution_count": 47,
      "outputs": [
        {
          "output_type": "stream",
          "name": "stdout",
          "text": [
            "Model: \"model_2_LSTM\"\n",
            "_________________________________________________________________\n",
            " Layer (type)                Output Shape              Param #   \n",
            "=================================================================\n",
            " input_3 (InputLayer)        [(None, 1)]               0         \n",
            "                                                                 \n",
            " text_vectorization (TextVec  (None, 15)               0         \n",
            " torization)                                                     \n",
            "                                                                 \n",
            " embedding_2 (Embedding)     (None, 15, 128)           1280000   \n",
            "                                                                 \n",
            " lstm (LSTM)                 (None, 64)                49408     \n",
            "                                                                 \n",
            " dense_2 (Dense)             (None, 1)                 65        \n",
            "                                                                 \n",
            "=================================================================\n",
            "Total params: 1,329,473\n",
            "Trainable params: 1,329,473\n",
            "Non-trainable params: 0\n",
            "_________________________________________________________________\n"
          ]
        }
      ]
    },
    {
      "cell_type": "code",
      "source": [
        "# Fit the model\n",
        "model_2_history = model_2.fit(train_sentences,\n",
        "                              train_labels,\n",
        "                              epochs=5,\n",
        "                              validation_data=(val_sentences, val_labels),\n",
        "                              callbacks=[create_tensorboard_callback(SAVE_DIR,\n",
        "                                                                     'LSTM')])"
      ],
      "metadata": {
        "colab": {
          "base_uri": "https://localhost:8080/"
        },
        "id": "4cA2cCWM_SHy",
        "outputId": "4031b626-a296-44e0-fe93-c8bc97fea9ca"
      },
      "execution_count": 48,
      "outputs": [
        {
          "output_type": "stream",
          "name": "stdout",
          "text": [
            "Saving TensorBoard log files to: model_logs/LSTM/20230608-123208\n",
            "Epoch 1/5\n",
            "215/215 [==============================] - 7s 22ms/step - loss: 0.5118 - accuracy: 0.7430 - val_loss: 0.4578 - val_accuracy: 0.7782\n",
            "Epoch 2/5\n",
            "215/215 [==============================] - 5s 21ms/step - loss: 0.3171 - accuracy: 0.8708 - val_loss: 0.5139 - val_accuracy: 0.7795\n",
            "Epoch 3/5\n",
            "215/215 [==============================] - 5s 22ms/step - loss: 0.2196 - accuracy: 0.9158 - val_loss: 0.5828 - val_accuracy: 0.7651\n",
            "Epoch 4/5\n",
            "215/215 [==============================] - 5s 22ms/step - loss: 0.1564 - accuracy: 0.9467 - val_loss: 0.6626 - val_accuracy: 0.7717\n",
            "Epoch 5/5\n",
            "215/215 [==============================] - 6s 26ms/step - loss: 0.1092 - accuracy: 0.9599 - val_loss: 0.8782 - val_accuracy: 0.7533\n"
          ]
        }
      ]
    },
    {
      "cell_type": "code",
      "source": [
        "# Predictions\n",
        "model_2_probs = model_2.predict(val_sentences)\n",
        "model_2_probs.shape, model_2_probs[:10]"
      ],
      "metadata": {
        "colab": {
          "base_uri": "https://localhost:8080/"
        },
        "id": "4K7NUTwW_iQo",
        "outputId": "3a40ed91-3f13-4aa0-a85e-903a283b5382"
      },
      "execution_count": 49,
      "outputs": [
        {
          "output_type": "stream",
          "name": "stdout",
          "text": [
            "24/24 [==============================] - 1s 4ms/step\n"
          ]
        },
        {
          "output_type": "execute_result",
          "data": {
            "text/plain": [
              "((762, 1),\n",
              " array([[0.01234728],\n",
              "        [0.74578345],\n",
              "        [0.99935526],\n",
              "        [0.04763211],\n",
              "        [0.00326248],\n",
              "        [0.999409  ],\n",
              "        [0.907483  ],\n",
              "        [0.99967736],\n",
              "        [0.9994093 ],\n",
              "        [0.307993  ]], dtype=float32))"
            ]
          },
          "metadata": {},
          "execution_count": 49
        }
      ]
    },
    {
      "cell_type": "code",
      "source": [
        "# Turn prediction probabilities into class predictions\n",
        "model_2_preds = tf.squeeze(tf.round(model_2_probs))\n",
        "model_2_preds[:10]"
      ],
      "metadata": {
        "colab": {
          "base_uri": "https://localhost:8080/"
        },
        "id": "navxDvv5_v4d",
        "outputId": "e6437510-6d9e-4d5a-ccd3-506bb04fe3c6"
      },
      "execution_count": 51,
      "outputs": [
        {
          "output_type": "execute_result",
          "data": {
            "text/plain": [
              "<tf.Tensor: shape=(10,), dtype=float32, numpy=array([0., 1., 1., 0., 0., 1., 1., 1., 1., 0.], dtype=float32)>"
            ]
          },
          "metadata": {},
          "execution_count": 51
        }
      ]
    },
    {
      "cell_type": "code",
      "source": [
        "# Calculating Model results\n",
        "model_2_results = calculate_results(y_true=val_labels,\n",
        "                                    y_pred=model_2_preds)\n",
        "model_2_results"
      ],
      "metadata": {
        "colab": {
          "base_uri": "https://localhost:8080/"
        },
        "id": "GA0mvmxpBUR5",
        "outputId": "6768551a-c195-42bc-f2ca-1f287cb529ef"
      },
      "execution_count": 52,
      "outputs": [
        {
          "output_type": "execute_result",
          "data": {
            "text/plain": [
              "{'accuracy': 75.32808398950131,\n",
              " 'precision': 0.7533943930774577,\n",
              " 'recall': 0.7532808398950132,\n",
              " 'f1': 0.7518108425860833}"
            ]
          },
          "metadata": {},
          "execution_count": 52
        }
      ]
    },
    {
      "cell_type": "code",
      "source": [
        "# Compare model to baseline\n",
        "compare_baseline_to_new_results(baseline_results, model_2_results)"
      ],
      "metadata": {
        "colab": {
          "base_uri": "https://localhost:8080/"
        },
        "id": "KGSBFcX8BknH",
        "outputId": "b4aded48-ce49-4b7e-b072-02d8e0d15b49"
      },
      "execution_count": 53,
      "outputs": [
        {
          "output_type": "stream",
          "name": "stdout",
          "text": [
            "Baseline accuracy: 79.27, New accuracy: 75.33, Difference: -3.94\n",
            "Baseline precision: 0.81, New precision: 0.75, Difference: -0.06\n",
            "Baseline recall: 0.79, New recall: 0.75, Difference: -0.04\n",
            "Baseline f1: 0.79, New f1: 0.75, Difference: -0.03\n"
          ]
        }
      ]
    },
    {
      "cell_type": "markdown",
      "source": [
        "# Model 3: GRU"
      ],
      "metadata": {
        "id": "eon4n2yfBueh"
      }
    },
    {
      "cell_type": "code",
      "source": [
        "# Set random seed and create embedding layer (new embedding layer for each model)\n",
        "tf.random.set_seed(42)\n",
        "from tensorflow.keras import layers\n",
        "model_3_embedding = layers.Embedding(input_dim=max_vocab_length,\n",
        "                                     output_dim=128,\n",
        "                                     embeddings_initializer='uniform',\n",
        "                                     input_length=max_length,\n",
        "                                     name='embedding_3')\n",
        "\n",
        "# Build an RNN using the GRU cell\n",
        "inputs = layers.Input(shape=(1,), dtype='string')\n",
        "x = text_vectorizer(inputs)\n",
        "x = model_3_embedding(x)\n",
        "# x = layers.GRU(64, return_sequences=True) # stacking recurrent cells requires return_sequences=True\n",
        "x = layers.GRU(64)(x) \n",
        "# x = layers.Dense(64, activation=\"relu\")(x) # optional dense layer after GRU cell\n",
        "outputs = layers.Dense(1, activation='sigmoid')(x)\n",
        "model_3 = tf.keras.Model(inputs, outputs, name='model_3_GRU')"
      ],
      "metadata": {
        "id": "NaNbAN_bBxle"
      },
      "execution_count": 54,
      "outputs": []
    },
    {
      "cell_type": "code",
      "source": [
        "# Compile GRU model\n",
        "model_3.compile(loss='binary_crossentropy',\n",
        "                optimizer=tf.keras.optimizers.Adam(),\n",
        "                metrics=['accuracy'])"
      ],
      "metadata": {
        "id": "Gn6L1U_HCZ80"
      },
      "execution_count": 55,
      "outputs": []
    },
    {
      "cell_type": "code",
      "source": [
        "model_3.summary()"
      ],
      "metadata": {
        "colab": {
          "base_uri": "https://localhost:8080/"
        },
        "id": "qCpK2jlcCbjL",
        "outputId": "2e0e2aa7-8852-4afd-c459-cd4819968e84"
      },
      "execution_count": 56,
      "outputs": [
        {
          "output_type": "stream",
          "name": "stdout",
          "text": [
            "Model: \"model_3_GRU\"\n",
            "_________________________________________________________________\n",
            " Layer (type)                Output Shape              Param #   \n",
            "=================================================================\n",
            " input_4 (InputLayer)        [(None, 1)]               0         \n",
            "                                                                 \n",
            " text_vectorization (TextVec  (None, 15)               0         \n",
            " torization)                                                     \n",
            "                                                                 \n",
            " embedding_3 (Embedding)     (None, 15, 128)           1280000   \n",
            "                                                                 \n",
            " gru (GRU)                   (None, 64)                37248     \n",
            "                                                                 \n",
            " dense_3 (Dense)             (None, 1)                 65        \n",
            "                                                                 \n",
            "=================================================================\n",
            "Total params: 1,317,313\n",
            "Trainable params: 1,317,313\n",
            "Non-trainable params: 0\n",
            "_________________________________________________________________\n"
          ]
        }
      ]
    },
    {
      "cell_type": "code",
      "source": [
        "# Fit model\n",
        "model_3_history = model_3.fit(train_sentences,\n",
        "                              train_labels,\n",
        "                              epochs=5,\n",
        "                              validation_data=(val_sentences, val_labels),\n",
        "                              callbacks=[create_tensorboard_callback(SAVE_DIR, 'GRU')])"
      ],
      "metadata": {
        "colab": {
          "base_uri": "https://localhost:8080/"
        },
        "id": "6qcolZM4Cdk0",
        "outputId": "a1b07817-b3fe-45e1-9b6d-b0651bead47b"
      },
      "execution_count": 57,
      "outputs": [
        {
          "output_type": "stream",
          "name": "stdout",
          "text": [
            "Saving TensorBoard log files to: model_logs/GRU/20230608-124504\n",
            "Epoch 1/5\n",
            "215/215 [==============================] - 7s 22ms/step - loss: 0.5278 - accuracy: 0.7249 - val_loss: 0.4556 - val_accuracy: 0.7756\n",
            "Epoch 2/5\n",
            "215/215 [==============================] - 5s 22ms/step - loss: 0.3196 - accuracy: 0.8697 - val_loss: 0.4925 - val_accuracy: 0.7835\n",
            "Epoch 3/5\n",
            "215/215 [==============================] - 5s 26ms/step - loss: 0.2187 - accuracy: 0.9183 - val_loss: 0.5574 - val_accuracy: 0.7677\n",
            "Epoch 4/5\n",
            "215/215 [==============================] - 5s 23ms/step - loss: 0.1574 - accuracy: 0.9461 - val_loss: 0.6110 - val_accuracy: 0.7782\n",
            "Epoch 5/5\n",
            "215/215 [==============================] - 4s 19ms/step - loss: 0.1192 - accuracy: 0.9606 - val_loss: 0.6059 - val_accuracy: 0.7743\n"
          ]
        }
      ]
    },
    {
      "cell_type": "code",
      "source": [
        "# Make predictions on the validation data\n",
        "model_3_pred_probs = model_3.predict(val_sentences)\n",
        "model_3_pred_probs.shape, model_3_pred_probs[:10]"
      ],
      "metadata": {
        "colab": {
          "base_uri": "https://localhost:8080/"
        },
        "id": "bQtqKaPbCfzw",
        "outputId": "f3325f4a-b331-424d-ded3-45c9dca0335e"
      },
      "execution_count": 58,
      "outputs": [
        {
          "output_type": "stream",
          "name": "stdout",
          "text": [
            "24/24 [==============================] - 1s 3ms/step\n"
          ]
        },
        {
          "output_type": "execute_result",
          "data": {
            "text/plain": [
              "((762, 1),\n",
              " array([[0.4255507 ],\n",
              "        [0.89336014],\n",
              "        [0.9974325 ],\n",
              "        [0.15910351],\n",
              "        [0.01433519],\n",
              "        [0.99161524],\n",
              "        [0.7127798 ],\n",
              "        [0.9974283 ],\n",
              "        [0.9969337 ],\n",
              "        [0.5119012 ]], dtype=float32))"
            ]
          },
          "metadata": {},
          "execution_count": 58
        }
      ]
    },
    {
      "cell_type": "code",
      "source": [
        "# Convert prediction probabilities into prediction classes\n",
        "model_3_preds = tf.squeeze(tf.round(model_3_pred_probs))\n",
        "model_3_preds[:10]"
      ],
      "metadata": {
        "colab": {
          "base_uri": "https://localhost:8080/"
        },
        "id": "OKSgp55JChWy",
        "outputId": "8351727f-6a1b-48fe-9ff3-d42f406c0641"
      },
      "execution_count": 59,
      "outputs": [
        {
          "output_type": "execute_result",
          "data": {
            "text/plain": [
              "<tf.Tensor: shape=(10,), dtype=float32, numpy=array([0., 1., 1., 0., 0., 1., 1., 1., 1., 1.], dtype=float32)>"
            ]
          },
          "metadata": {},
          "execution_count": 59
        }
      ]
    },
    {
      "cell_type": "code",
      "source": [
        "# Calculate model_3 results\n",
        "model_3_results = calculate_results(y_true=val_labels,\n",
        "                                    y_pred=model_3_preds)\n",
        "model_3_results"
      ],
      "metadata": {
        "colab": {
          "base_uri": "https://localhost:8080/"
        },
        "id": "9cuy-hfWCirW",
        "outputId": "aa249b8d-5b9c-409c-e363-a58c8e9ec508"
      },
      "execution_count": 60,
      "outputs": [
        {
          "output_type": "execute_result",
          "data": {
            "text/plain": [
              "{'accuracy': 77.42782152230971,\n",
              " 'precision': 0.7740023842417023,\n",
              " 'recall': 0.7742782152230971,\n",
              " 'f1': 0.7736009490663617}"
            ]
          },
          "metadata": {},
          "execution_count": 60
        }
      ]
    },
    {
      "cell_type": "code",
      "source": [
        "# Compare to baseline\n",
        "compare_baseline_to_new_results(baseline_results, model_3_results)"
      ],
      "metadata": {
        "colab": {
          "base_uri": "https://localhost:8080/"
        },
        "id": "eiGmVwJ8Ck_U",
        "outputId": "2990ce55-d2e2-464b-f664-a427b8edce0b"
      },
      "execution_count": 61,
      "outputs": [
        {
          "output_type": "stream",
          "name": "stdout",
          "text": [
            "Baseline accuracy: 79.27, New accuracy: 77.43, Difference: -1.84\n",
            "Baseline precision: 0.81, New precision: 0.77, Difference: -0.04\n",
            "Baseline recall: 0.79, New recall: 0.77, Difference: -0.02\n",
            "Baseline f1: 0.79, New f1: 0.77, Difference: -0.01\n"
          ]
        }
      ]
    },
    {
      "cell_type": "markdown",
      "source": [
        "# Model 4: Bi-directional RNN"
      ],
      "metadata": {
        "id": "hMmnfL4TCmZh"
      }
    },
    {
      "cell_type": "code",
      "source": [
        "# set random seed and create embedding layer (new embedding layer for each model)\n",
        "tf.random.set_seed(42)\n",
        "from tensorflow.keras import layers\n",
        "model_4_embedding = layers.Embedding(input_dim=max_vocab_length,\n",
        "                                     output_dim=128,\n",
        "                                     embeddings_initializer='uniform',\n",
        "                                     input_length=max_length,\n",
        "                                     name='embedding_4')\n",
        "\n",
        "# Build a Bidirectional RNN in TF\n",
        "# Build a Bidirectional RNN in TensorFlow\n",
        "inputs = layers.Input(shape=(1,), dtype=\"string\")\n",
        "x = text_vectorizer(inputs)\n",
        "x = model_4_embedding(x)\n",
        "# x = layers.Bidirectional(layers.LSTM(64, return_sequences=True))(x) # stacking RNN layers requires return_sequences=True\n",
        "x = layers.Bidirectional(layers.LSTM(64))(x) # bidirectional goes both ways so has double the parameters of a regular LSTM layer\n",
        "outputs = layers.Dense(1, activation=\"sigmoid\")(x)\n",
        "model_4 = tf.keras.Model(inputs, outputs, name=\"model_4_Bidirectional\")"
      ],
      "metadata": {
        "id": "PPeYdKR2Crk4"
      },
      "execution_count": 62,
      "outputs": []
    },
    {
      "cell_type": "code",
      "source": [
        "# compile the model\n",
        "model_4.compile(loss='binary_crossentropy',\n",
        "                optimizer=tf.keras.optimizers.Adam(),\n",
        "                metrics=['accuracy'])"
      ],
      "metadata": {
        "id": "ECL9FRsnCr8a"
      },
      "execution_count": 63,
      "outputs": []
    },
    {
      "cell_type": "code",
      "source": [
        "model_4.summary()"
      ],
      "metadata": {
        "colab": {
          "base_uri": "https://localhost:8080/"
        },
        "id": "k1iiusRSCtdr",
        "outputId": "e02b80e9-407b-43c9-ff4e-093a189e78e6"
      },
      "execution_count": 64,
      "outputs": [
        {
          "output_type": "stream",
          "name": "stdout",
          "text": [
            "Model: \"model_4_Bidirectional\"\n",
            "_________________________________________________________________\n",
            " Layer (type)                Output Shape              Param #   \n",
            "=================================================================\n",
            " input_5 (InputLayer)        [(None, 1)]               0         \n",
            "                                                                 \n",
            " text_vectorization (TextVec  (None, 15)               0         \n",
            " torization)                                                     \n",
            "                                                                 \n",
            " embedding_4 (Embedding)     (None, 15, 128)           1280000   \n",
            "                                                                 \n",
            " bidirectional (Bidirectiona  (None, 128)              98816     \n",
            " l)                                                              \n",
            "                                                                 \n",
            " dense_4 (Dense)             (None, 1)                 129       \n",
            "                                                                 \n",
            "=================================================================\n",
            "Total params: 1,378,945\n",
            "Trainable params: 1,378,945\n",
            "Non-trainable params: 0\n",
            "_________________________________________________________________\n"
          ]
        }
      ]
    },
    {
      "cell_type": "code",
      "source": [
        "# Fit the model (takes longer due to bidirectional layers)\n",
        "model_4_history = model_4.fit(train_sentences,\n",
        "                             train_labels,\n",
        "                             epochs=5,\n",
        "                             validation_data=(val_sentences, val_labels),\n",
        "                             callbacks=[create_tensorboard_callback(SAVE_DIR, 'bidirectional_RNN')])"
      ],
      "metadata": {
        "colab": {
          "base_uri": "https://localhost:8080/"
        },
        "id": "1Lxs2LRECvFd",
        "outputId": "7471d782-08fe-4204-8c3b-ea3108b37ae4"
      },
      "execution_count": 65,
      "outputs": [
        {
          "output_type": "stream",
          "name": "stdout",
          "text": [
            "Saving TensorBoard log files to: model_logs/bidirectional_RNN/20230608-124642\n",
            "Epoch 1/5\n",
            "215/215 [==============================] - 11s 33ms/step - loss: 0.5096 - accuracy: 0.7468 - val_loss: 0.4586 - val_accuracy: 0.7835\n",
            "Epoch 2/5\n",
            "215/215 [==============================] - 7s 32ms/step - loss: 0.3154 - accuracy: 0.8726 - val_loss: 0.5134 - val_accuracy: 0.7769\n",
            "Epoch 3/5\n",
            "215/215 [==============================] - 6s 29ms/step - loss: 0.2164 - accuracy: 0.9171 - val_loss: 0.5607 - val_accuracy: 0.7782\n",
            "Epoch 4/5\n",
            "215/215 [==============================] - 9s 41ms/step - loss: 0.1538 - accuracy: 0.9450 - val_loss: 0.6491 - val_accuracy: 0.7835\n",
            "Epoch 5/5\n",
            "215/215 [==============================] - 6s 28ms/step - loss: 0.1075 - accuracy: 0.9632 - val_loss: 0.6791 - val_accuracy: 0.7743\n"
          ]
        }
      ]
    },
    {
      "cell_type": "code",
      "source": [
        "# Make predictions \n",
        "model_4_pred_probs = model_4.predict(val_sentences)\n",
        "model_4_pred_probs[:10]"
      ],
      "metadata": {
        "colab": {
          "base_uri": "https://localhost:8080/"
        },
        "id": "uohfy-QbC3oJ",
        "outputId": "12093d42-93ca-4057-dc5d-ace6879c7123"
      },
      "execution_count": 66,
      "outputs": [
        {
          "output_type": "stream",
          "name": "stdout",
          "text": [
            "24/24 [==============================] - 2s 10ms/step\n"
          ]
        },
        {
          "output_type": "execute_result",
          "data": {
            "text/plain": [
              "array([[0.01939893],\n",
              "       [0.8025291 ],\n",
              "       [0.9990241 ],\n",
              "       [0.15323389],\n",
              "       [0.00486654],\n",
              "       [0.99670106],\n",
              "       [0.8140482 ],\n",
              "       [0.9995192 ],\n",
              "       [0.9994815 ],\n",
              "       [0.3704411 ]], dtype=float32)"
            ]
          },
          "metadata": {},
          "execution_count": 66
        }
      ]
    },
    {
      "cell_type": "code",
      "source": [
        "# Convert prediction probabilities to labels\n",
        "model_4_preds = tf.squeeze(tf.round(model_4_pred_probs))\n",
        "model_4_preds[:10]"
      ],
      "metadata": {
        "colab": {
          "base_uri": "https://localhost:8080/"
        },
        "id": "qmdigcZBC5JX",
        "outputId": "4cdc8290-101c-46c2-d34a-a495b993ab48"
      },
      "execution_count": 67,
      "outputs": [
        {
          "output_type": "execute_result",
          "data": {
            "text/plain": [
              "<tf.Tensor: shape=(10,), dtype=float32, numpy=array([0., 1., 1., 0., 0., 1., 1., 1., 1., 0.], dtype=float32)>"
            ]
          },
          "metadata": {},
          "execution_count": 67
        }
      ]
    },
    {
      "cell_type": "code",
      "source": [
        "# Calculate bidirectional RNN model results\n",
        "model_4_results = calculate_results(val_labels, model_4_preds)\n",
        "model_4_results"
      ],
      "metadata": {
        "colab": {
          "base_uri": "https://localhost:8080/"
        },
        "id": "TN4FnUFvC6WQ",
        "outputId": "4bd8c83d-cb37-42e2-9257-44079b6c9778"
      },
      "execution_count": 68,
      "outputs": [
        {
          "output_type": "execute_result",
          "data": {
            "text/plain": [
              "{'accuracy': 77.42782152230971,\n",
              " 'precision': 0.7739247753664795,\n",
              " 'recall': 0.7742782152230971,\n",
              " 'f1': 0.7738379696150454}"
            ]
          },
          "metadata": {},
          "execution_count": 68
        }
      ]
    },
    {
      "cell_type": "code",
      "source": [
        "# Check to see how the bidirectional model performs against the baseline\n",
        "compare_baseline_to_new_results(baseline_results, model_4_results)"
      ],
      "metadata": {
        "colab": {
          "base_uri": "https://localhost:8080/"
        },
        "id": "SV8xTudwC7hr",
        "outputId": "eee790a5-16bb-4068-81d2-837d1c9acaa8"
      },
      "execution_count": 69,
      "outputs": [
        {
          "output_type": "stream",
          "name": "stdout",
          "text": [
            "Baseline accuracy: 79.27, New accuracy: 77.43, Difference: -1.84\n",
            "Baseline precision: 0.81, New precision: 0.77, Difference: -0.04\n",
            "Baseline recall: 0.79, New recall: 0.77, Difference: -0.02\n",
            "Baseline f1: 0.79, New f1: 0.77, Difference: -0.01\n"
          ]
        }
      ]
    },
    {
      "cell_type": "markdown",
      "source": [
        "# Model 5: Conv1D"
      ],
      "metadata": {
        "id": "10iIBWUPC8nS"
      }
    },
    {
      "cell_type": "code",
      "source": [
        "# Test out the embedding, 1D convolutional and max pooling\n",
        "embedding_test = embedding(text_vectorizer(['this is a test sentence'])) # turn target sentence into embedding\n",
        "conv_1d = layers.Conv1D(filters=32, kernel_size=5, activation='relu') # convolve over target sequence 5 words at a time\n",
        "conv_1d_output = conv_1d(embedding_test) # pass embedding through 1D convolutional layer\n",
        "max_pool = layers.GlobalMaxPool1D()\n",
        "max_pool_output = max_pool(conv_1d_output) # get the most important features\n",
        "embedding_test.shape, conv_1d_output.shape, max_pool_output.shape"
      ],
      "metadata": {
        "colab": {
          "base_uri": "https://localhost:8080/"
        },
        "id": "5eGqfKl_C_lt",
        "outputId": "3841df52-9daf-4e1f-8a3e-8bd719669747"
      },
      "execution_count": 70,
      "outputs": [
        {
          "output_type": "execute_result",
          "data": {
            "text/plain": [
              "(TensorShape([1, 15, 128]), TensorShape([1, 11, 32]), TensorShape([1, 32]))"
            ]
          },
          "metadata": {},
          "execution_count": 70
        }
      ]
    },
    {
      "cell_type": "code",
      "source": [
        "# See the outputs of each layer\n",
        "embedding_test[:1], conv_1d_output[:1], max_pool_output[:1]"
      ],
      "metadata": {
        "colab": {
          "base_uri": "https://localhost:8080/"
        },
        "id": "-SItRLqODOht",
        "outputId": "dcecc1a7-0341-4496-b7c3-dbb743cb8ff7"
      },
      "execution_count": 71,
      "outputs": [
        {
          "output_type": "execute_result",
          "data": {
            "text/plain": [
              "(<tf.Tensor: shape=(1, 15, 128), dtype=float32, numpy=\n",
              " array([[[ 0.04139357, -0.03848265,  0.00947097, ...,  0.01209709,\n",
              "          -0.02570155,  0.01607963],\n",
              "         [ 0.02725076,  0.05475005, -0.0191861 , ...,  0.04867174,\n",
              "          -0.06460838,  0.07366479],\n",
              "         [ 0.04175058,  0.04090529, -0.02106115, ..., -0.00923273,\n",
              "          -0.02666038,  0.03121505],\n",
              "         ...,\n",
              "         [ 0.05558841,  0.03839752, -0.03699648, ...,  0.01291534,\n",
              "          -0.00823131, -0.00593747],\n",
              "         [ 0.05558841,  0.03839752, -0.03699648, ...,  0.01291534,\n",
              "          -0.00823131, -0.00593747],\n",
              "         [ 0.05558841,  0.03839752, -0.03699648, ...,  0.01291534,\n",
              "          -0.00823131, -0.00593747]]], dtype=float32)>,\n",
              " <tf.Tensor: shape=(1, 11, 32), dtype=float32, numpy=\n",
              " array([[[0.01525486, 0.05739066, 0.00532971, 0.12252933, 0.        ,\n",
              "          0.        , 0.02732532, 0.        , 0.        , 0.        ,\n",
              "          0.        , 0.        , 0.00977272, 0.        , 0.07111079,\n",
              "          0.10276052, 0.        , 0.        , 0.01656817, 0.04735042,\n",
              "          0.05254151, 0.06126726, 0.        , 0.00758141, 0.09497947,\n",
              "          0.04854848, 0.02764   , 0.        , 0.        , 0.        ,\n",
              "          0.        , 0.        ],\n",
              "         [0.02249377, 0.        , 0.        , 0.10526697, 0.01718795,\n",
              "          0.0187941 , 0.08741822, 0.        , 0.        , 0.        ,\n",
              "          0.08349431, 0.        , 0.        , 0.        , 0.        ,\n",
              "          0.        , 0.        , 0.07465583, 0.06191897, 0.        ,\n",
              "          0.031051  , 0.        , 0.        , 0.06430208, 0.09402941,\n",
              "          0.        , 0.        , 0.        , 0.01707878, 0.08863451,\n",
              "          0.        , 0.        ],\n",
              "         [0.04000295, 0.03897348, 0.01968697, 0.1240408 , 0.        ,\n",
              "          0.        , 0.01735309, 0.03423578, 0.        , 0.06429957,\n",
              "          0.04266684, 0.03907018, 0.0671398 , 0.        , 0.04946077,\n",
              "          0.0697104 , 0.        , 0.00203446, 0.00092753, 0.        ,\n",
              "          0.        , 0.08401714, 0.        , 0.04069716, 0.14348033,\n",
              "          0.02525371, 0.        , 0.00756728, 0.        , 0.00164603,\n",
              "          0.        , 0.02135561],\n",
              "         [0.10773231, 0.        , 0.        , 0.10441153, 0.03262718,\n",
              "          0.00111667, 0.03483899, 0.        , 0.        , 0.        ,\n",
              "          0.05845285, 0.        , 0.02184251, 0.        , 0.08187421,\n",
              "          0.00045786, 0.        , 0.        , 0.06070466, 0.        ,\n",
              "          0.04586378, 0.02640744, 0.        , 0.        , 0.0444712 ,\n",
              "          0.05451295, 0.        , 0.        , 0.        , 0.07032067,\n",
              "          0.        , 0.00122693],\n",
              "         [0.00654135, 0.07300344, 0.        , 0.02381541, 0.        ,\n",
              "          0.02180739, 0.00846065, 0.        , 0.        , 0.        ,\n",
              "          0.04267184, 0.0224096 , 0.01731397, 0.00818171, 0.        ,\n",
              "          0.        , 0.        , 0.        , 0.03025481, 0.        ,\n",
              "          0.08059157, 0.01023325, 0.        , 0.        , 0.07779492,\n",
              "          0.04182589, 0.        , 0.        , 0.        , 0.09328274,\n",
              "          0.        , 0.        ],\n",
              "         [0.00124666, 0.05204742, 0.        , 0.03054224, 0.        ,\n",
              "          0.01977558, 0.01886933, 0.01830451, 0.        , 0.        ,\n",
              "          0.02816618, 0.03334761, 0.03191216, 0.02557916, 0.        ,\n",
              "          0.        , 0.        , 0.        , 0.04176629, 0.        ,\n",
              "          0.08299739, 0.02018671, 0.        , 0.        , 0.06593466,\n",
              "          0.03800507, 0.        , 0.        , 0.        , 0.04928965,\n",
              "          0.        , 0.        ],\n",
              "         [0.00124666, 0.05204742, 0.        , 0.03054224, 0.        ,\n",
              "          0.01977558, 0.01886933, 0.01830451, 0.        , 0.        ,\n",
              "          0.02816618, 0.03334761, 0.03191216, 0.02557916, 0.        ,\n",
              "          0.        , 0.        , 0.        , 0.04176629, 0.        ,\n",
              "          0.08299739, 0.02018671, 0.        , 0.        , 0.06593466,\n",
              "          0.03800507, 0.        , 0.        , 0.        , 0.04928965,\n",
              "          0.        , 0.        ],\n",
              "         [0.00124666, 0.05204742, 0.        , 0.03054224, 0.        ,\n",
              "          0.01977558, 0.01886933, 0.01830451, 0.        , 0.        ,\n",
              "          0.02816618, 0.03334761, 0.03191216, 0.02557916, 0.        ,\n",
              "          0.        , 0.        , 0.        , 0.04176629, 0.        ,\n",
              "          0.08299739, 0.02018671, 0.        , 0.        , 0.06593466,\n",
              "          0.03800507, 0.        , 0.        , 0.        , 0.04928965,\n",
              "          0.        , 0.        ],\n",
              "         [0.00124666, 0.05204742, 0.        , 0.03054224, 0.        ,\n",
              "          0.01977558, 0.01886933, 0.01830451, 0.        , 0.        ,\n",
              "          0.02816618, 0.03334761, 0.03191216, 0.02557916, 0.        ,\n",
              "          0.        , 0.        , 0.        , 0.04176629, 0.        ,\n",
              "          0.08299739, 0.02018671, 0.        , 0.        , 0.06593466,\n",
              "          0.03800507, 0.        , 0.        , 0.        , 0.04928965,\n",
              "          0.        , 0.        ],\n",
              "         [0.00124666, 0.05204742, 0.        , 0.03054224, 0.        ,\n",
              "          0.01977558, 0.01886933, 0.01830451, 0.        , 0.        ,\n",
              "          0.02816618, 0.03334761, 0.03191216, 0.02557916, 0.        ,\n",
              "          0.        , 0.        , 0.        , 0.04176629, 0.        ,\n",
              "          0.08299739, 0.02018671, 0.        , 0.        , 0.06593466,\n",
              "          0.03800507, 0.        , 0.        , 0.        , 0.04928965,\n",
              "          0.        , 0.        ],\n",
              "         [0.00124666, 0.05204742, 0.        , 0.03054224, 0.        ,\n",
              "          0.01977558, 0.01886933, 0.01830451, 0.        , 0.        ,\n",
              "          0.02816618, 0.03334761, 0.03191216, 0.02557916, 0.        ,\n",
              "          0.        , 0.        , 0.        , 0.04176629, 0.        ,\n",
              "          0.08299739, 0.02018671, 0.        , 0.        , 0.06593466,\n",
              "          0.03800507, 0.        , 0.        , 0.        , 0.04928965,\n",
              "          0.        , 0.        ]]], dtype=float32)>,\n",
              " <tf.Tensor: shape=(1, 32), dtype=float32, numpy=\n",
              " array([[0.10773231, 0.07300344, 0.01968697, 0.1240408 , 0.03262718,\n",
              "         0.02180739, 0.08741822, 0.03423578, 0.        , 0.06429957,\n",
              "         0.08349431, 0.03907018, 0.0671398 , 0.02557916, 0.08187421,\n",
              "         0.10276052, 0.        , 0.07465583, 0.06191897, 0.04735042,\n",
              "         0.08299739, 0.08401714, 0.        , 0.06430208, 0.14348033,\n",
              "         0.05451295, 0.02764   , 0.00756728, 0.01707878, 0.09328274,\n",
              "         0.        , 0.02135561]], dtype=float32)>)"
            ]
          },
          "metadata": {},
          "execution_count": 71
        }
      ]
    },
    {
      "cell_type": "code",
      "source": [
        "# Set random seed and create embedding layer (new embedding layer for each model)\n",
        "tf.random.set_seed(42)\n",
        "from tensorflow.keras import layers\n",
        "model_5_embedding = layers.Embedding(input_dim=max_vocab_length,\n",
        "                                     output_dim=128,\n",
        "                                     embeddings_initializer=\"uniform\",\n",
        "                                     input_length=max_length,\n",
        "                                     name=\"embedding_5\")\n",
        "\n",
        "# Create 1-dimensional convolutional layer to model sequences\n",
        "from tensorflow.keras import layers\n",
        "inputs = layers.Input(shape=(1,), dtype=\"string\")\n",
        "x = text_vectorizer(inputs)\n",
        "x = model_5_embedding(x)\n",
        "x = layers.Conv1D(filters=32, kernel_size=5, activation=\"relu\")(x)\n",
        "x = layers.GlobalMaxPool1D()(x)\n",
        "# x = layers.Dense(64, activation=\"relu\")(x) # optional dense layer\n",
        "outputs = layers.Dense(1, activation=\"sigmoid\")(x)\n",
        "model_5 = tf.keras.Model(inputs, outputs, name=\"model_5_Conv1D\")\n",
        "\n",
        "# Compile Conv1D model\n",
        "model_5.compile(loss=\"binary_crossentropy\",\n",
        "                optimizer=tf.keras.optimizers.Adam(),\n",
        "                metrics=[\"accuracy\"])\n",
        "\n",
        "# Get a summary of our 1D convolution model\n",
        "model_5.summary()"
      ],
      "metadata": {
        "colab": {
          "base_uri": "https://localhost:8080/"
        },
        "id": "EyypVrkADQJg",
        "outputId": "ad491e96-6ea1-4e3e-a092-7ff18f4f034f"
      },
      "execution_count": 72,
      "outputs": [
        {
          "output_type": "stream",
          "name": "stdout",
          "text": [
            "Model: \"model_5_Conv1D\"\n",
            "_________________________________________________________________\n",
            " Layer (type)                Output Shape              Param #   \n",
            "=================================================================\n",
            " input_6 (InputLayer)        [(None, 1)]               0         \n",
            "                                                                 \n",
            " text_vectorization (TextVec  (None, 15)               0         \n",
            " torization)                                                     \n",
            "                                                                 \n",
            " embedding_5 (Embedding)     (None, 15, 128)           1280000   \n",
            "                                                                 \n",
            " conv1d_1 (Conv1D)           (None, 11, 32)            20512     \n",
            "                                                                 \n",
            " global_max_pooling1d_1 (Glo  (None, 32)               0         \n",
            " balMaxPooling1D)                                                \n",
            "                                                                 \n",
            " dense_5 (Dense)             (None, 1)                 33        \n",
            "                                                                 \n",
            "=================================================================\n",
            "Total params: 1,300,545\n",
            "Trainable params: 1,300,545\n",
            "Non-trainable params: 0\n",
            "_________________________________________________________________\n"
          ]
        }
      ]
    },
    {
      "cell_type": "code",
      "source": [
        "# Fit the model\n",
        "model_5_history = model_5.fit(train_sentences,\n",
        "                              train_labels,\n",
        "                              epochs=5,\n",
        "                              validation_data=(val_sentences, val_labels),\n",
        "                              callbacks=[create_tensorboard_callback(SAVE_DIR, \n",
        "                                                                     \"Conv1D\")])"
      ],
      "metadata": {
        "colab": {
          "base_uri": "https://localhost:8080/"
        },
        "id": "Jd5ejuymDUQd",
        "outputId": "d189dbec-a694-413c-8eba-67dbdff98517"
      },
      "execution_count": 73,
      "outputs": [
        {
          "output_type": "stream",
          "name": "stdout",
          "text": [
            "Saving TensorBoard log files to: model_logs/Conv1D/20230608-124847\n",
            "Epoch 1/5\n",
            "215/215 [==============================] - 4s 15ms/step - loss: 0.5695 - accuracy: 0.7100 - val_loss: 0.4693 - val_accuracy: 0.7782\n",
            "Epoch 2/5\n",
            "215/215 [==============================] - 3s 14ms/step - loss: 0.3464 - accuracy: 0.8577 - val_loss: 0.4701 - val_accuracy: 0.7940\n",
            "Epoch 3/5\n",
            "215/215 [==============================] - 3s 12ms/step - loss: 0.2196 - accuracy: 0.9202 - val_loss: 0.5274 - val_accuracy: 0.7756\n",
            "Epoch 4/5\n",
            "215/215 [==============================] - 3s 14ms/step - loss: 0.1439 - accuracy: 0.9515 - val_loss: 0.6012 - val_accuracy: 0.7730\n",
            "Epoch 5/5\n",
            "215/215 [==============================] - 3s 15ms/step - loss: 0.1009 - accuracy: 0.9670 - val_loss: 0.6651 - val_accuracy: 0.7861\n"
          ]
        }
      ]
    },
    {
      "cell_type": "code",
      "source": [
        "# Make predictions with model_5\n",
        "model_5_pred_probs = model_5.predict(val_sentences)\n",
        "model_5_pred_probs[:10]"
      ],
      "metadata": {
        "colab": {
          "base_uri": "https://localhost:8080/"
        },
        "id": "-Lxj034lDWF2",
        "outputId": "41d5411d-5ef5-40f4-c8c7-97f9c770152e"
      },
      "execution_count": 74,
      "outputs": [
        {
          "output_type": "stream",
          "name": "stdout",
          "text": [
            "24/24 [==============================] - 0s 2ms/step\n"
          ]
        },
        {
          "output_type": "execute_result",
          "data": {
            "text/plain": [
              "array([[0.71985584],\n",
              "       [0.7161334 ],\n",
              "       [0.99991673],\n",
              "       [0.1380302 ],\n",
              "       [0.00443397],\n",
              "       [0.99510753],\n",
              "       [0.965341  ],\n",
              "       [0.9980058 ],\n",
              "       [0.9983696 ],\n",
              "       [0.06828965]], dtype=float32)"
            ]
          },
          "metadata": {},
          "execution_count": 74
        }
      ]
    },
    {
      "cell_type": "code",
      "source": [
        "# Convert model_5 prediction probabilities to labels\n",
        "model_5_preds = tf.squeeze(tf.round(model_5_pred_probs))\n",
        "model_5_preds[:10]"
      ],
      "metadata": {
        "colab": {
          "base_uri": "https://localhost:8080/"
        },
        "id": "kiqheZEVDXau",
        "outputId": "6abee092-cb3e-4232-e790-2c9173406509"
      },
      "execution_count": 75,
      "outputs": [
        {
          "output_type": "execute_result",
          "data": {
            "text/plain": [
              "<tf.Tensor: shape=(10,), dtype=float32, numpy=array([1., 1., 1., 0., 0., 1., 1., 1., 1., 0.], dtype=float32)>"
            ]
          },
          "metadata": {},
          "execution_count": 75
        }
      ]
    },
    {
      "cell_type": "code",
      "source": [
        "# Calculate model_5 evaluation metrics \n",
        "model_5_results = calculate_results(y_true=val_labels, \n",
        "                                    y_pred=model_5_preds)\n",
        "model_5_results"
      ],
      "metadata": {
        "colab": {
          "base_uri": "https://localhost:8080/"
        },
        "id": "WOEGFb1GDYu3",
        "outputId": "6fec7a0f-7de0-4ede-c72f-6fc14df38c0c"
      },
      "execution_count": 76,
      "outputs": [
        {
          "output_type": "execute_result",
          "data": {
            "text/plain": [
              "{'accuracy': 78.60892388451444,\n",
              " 'precision': 0.7907394181632303,\n",
              " 'recall': 0.7860892388451444,\n",
              " 'f1': 0.7831536805930754}"
            ]
          },
          "metadata": {},
          "execution_count": 76
        }
      ]
    },
    {
      "cell_type": "code",
      "source": [
        "# Compare model_5 results to baseline \n",
        "compare_baseline_to_new_results(baseline_results, model_5_results)"
      ],
      "metadata": {
        "colab": {
          "base_uri": "https://localhost:8080/"
        },
        "id": "HHi5fUzdDaN-",
        "outputId": "7576865a-cf61-4e25-eca1-ccbe683d8211"
      },
      "execution_count": 77,
      "outputs": [
        {
          "output_type": "stream",
          "name": "stdout",
          "text": [
            "Baseline accuracy: 79.27, New accuracy: 78.61, Difference: -0.66\n",
            "Baseline precision: 0.81, New precision: 0.79, Difference: -0.02\n",
            "Baseline recall: 0.79, New recall: 0.79, Difference: -0.01\n",
            "Baseline f1: 0.79, New f1: 0.78, Difference: -0.00\n"
          ]
        }
      ]
    },
    {
      "cell_type": "markdown",
      "source": [
        "# Model 6: Pretrained Sentence Encoder"
      ],
      "metadata": {
        "id": "JalBURZGDcsF"
      }
    },
    {
      "cell_type": "markdown",
      "source": [
        "Using transfer learning to leverage pretrained embeddings\n",
        "* Universal Sentence Encoder\n",
        "  * Replaces the text vectorizer and embedding layer we created as we now have trained weights"
      ],
      "metadata": {
        "id": "A4JAgcZUDjux"
      }
    },
    {
      "cell_type": "code",
      "source": [
        "# Example of pretrained embedding with universal sentence encoder\n",
        "import tensorflow_hub as hub\n",
        "embed = hub.load(\"https://tfhub.dev/google/universal-sentence-encoder/4\") # load Universal Sentence Encoder\n",
        "embed_samples = embed([sample_sentence,\n",
        "                      \"When you call the universal sentence encoder on a sentence, it turns it into numbers.\"])\n",
        "\n",
        "print(embed_samples[0][:50])"
      ],
      "metadata": {
        "colab": {
          "base_uri": "https://localhost:8080/"
        },
        "id": "I6uJkxk8Df2s",
        "outputId": "899db1ea-ac02-4462-f43b-b6d0de7f7326"
      },
      "execution_count": 78,
      "outputs": [
        {
          "output_type": "stream",
          "name": "stdout",
          "text": [
            "tf.Tensor(\n",
            "[-0.01157025  0.02485911  0.02878051 -0.012715    0.03971541  0.08827761\n",
            "  0.02680988  0.05589838 -0.01068731 -0.00597293  0.00639321 -0.01819516\n",
            "  0.00030816  0.09105889  0.05874645 -0.03180629  0.01512474 -0.05162925\n",
            "  0.00991366 -0.06865345 -0.04209306  0.0267898   0.03011009  0.00321065\n",
            " -0.00337968 -0.04787356  0.0226672  -0.00985927 -0.04063615 -0.01292093\n",
            " -0.04666382  0.05630299 -0.03949255  0.00517682  0.02495827 -0.07014439\n",
            "  0.0287151   0.0494768  -0.00633978 -0.08960193  0.02807119 -0.00808364\n",
            " -0.01360601  0.05998649 -0.10361788 -0.05195372  0.00232958 -0.02332531\n",
            " -0.03758106  0.03327729], shape=(50,), dtype=float32)\n"
          ]
        }
      ]
    },
    {
      "cell_type": "code",
      "source": [
        "embed_samples[0].shape"
      ],
      "metadata": {
        "colab": {
          "base_uri": "https://localhost:8080/"
        },
        "id": "Zihon-OVDr-n",
        "outputId": "24c40060-bed1-4463-ea60-d2eb6ddcd105"
      },
      "execution_count": 79,
      "outputs": [
        {
          "output_type": "execute_result",
          "data": {
            "text/plain": [
              "TensorShape([512])"
            ]
          },
          "metadata": {},
          "execution_count": 79
        }
      ]
    },
    {
      "cell_type": "code",
      "source": [
        "# We can use this encoding layer in place of our text_vectorizer and embedding layer\n",
        "sentence_encoder_layer = hub.KerasLayer(\"https://tfhub.dev/google/universal-sentence-encoder/4\",\n",
        "                                        input_shape=[], # shape of inputs coming to our model \n",
        "                                        dtype=tf.string, # data type of inputs coming to the USE layer\n",
        "                                        trainable=False, # keep the pretrained weights (we'll create a feature extractor)\n",
        "                                        name=\"USE\") "
      ],
      "metadata": {
        "id": "eezJBZVZDyBn"
      },
      "execution_count": 80,
      "outputs": []
    },
    {
      "cell_type": "code",
      "source": [
        "# Create model using the Sequential API\n",
        "model_6 = tf.keras.Sequential([\n",
        "  sentence_encoder_layer, # take in sentences and then encode them into an embedding\n",
        "  layers.Dense(64, activation=\"relu\"),\n",
        "  layers.Dense(1, activation=\"sigmoid\")\n",
        "], name=\"model_6_USE\")\n",
        "\n",
        "# Compile model\n",
        "model_6.compile(loss=\"binary_crossentropy\",\n",
        "                optimizer=tf.keras.optimizers.Adam(),\n",
        "                metrics=[\"accuracy\"])\n",
        "\n",
        "model_6.summary()"
      ],
      "metadata": {
        "colab": {
          "base_uri": "https://localhost:8080/"
        },
        "id": "WKwYu04UD1LN",
        "outputId": "a49cbff4-1a02-47c9-b71f-95ac21039337"
      },
      "execution_count": 81,
      "outputs": [
        {
          "output_type": "stream",
          "name": "stdout",
          "text": [
            "Model: \"model_6_USE\"\n",
            "_________________________________________________________________\n",
            " Layer (type)                Output Shape              Param #   \n",
            "=================================================================\n",
            " USE (KerasLayer)            (None, 512)               256797824 \n",
            "                                                                 \n",
            " dense_6 (Dense)             (None, 64)                32832     \n",
            "                                                                 \n",
            " dense_7 (Dense)             (None, 1)                 65        \n",
            "                                                                 \n",
            "=================================================================\n",
            "Total params: 256,830,721\n",
            "Trainable params: 32,897\n",
            "Non-trainable params: 256,797,824\n",
            "_________________________________________________________________\n"
          ]
        }
      ]
    },
    {
      "cell_type": "code",
      "source": [
        "# Train a classifier on top of pretrained embeddings\n",
        "model_6_history = model_6.fit(train_sentences,\n",
        "                              train_labels,\n",
        "                              epochs=5,\n",
        "                              validation_data=(val_sentences, val_labels),\n",
        "                              callbacks=[create_tensorboard_callback(SAVE_DIR, \n",
        "                                                                     \"tf_hub_sentence_encoder\")])"
      ],
      "metadata": {
        "colab": {
          "base_uri": "https://localhost:8080/"
        },
        "id": "nf47tVzGEBuz",
        "outputId": "cb203db1-32ad-49c9-9724-8f0e02769448"
      },
      "execution_count": 82,
      "outputs": [
        {
          "output_type": "stream",
          "name": "stdout",
          "text": [
            "Saving TensorBoard log files to: model_logs/tf_hub_sentence_encoder/20230608-125154\n",
            "Epoch 1/5\n",
            "215/215 [==============================] - 5s 10ms/step - loss: 0.5047 - accuracy: 0.7932 - val_loss: 0.4494 - val_accuracy: 0.8018\n",
            "Epoch 2/5\n",
            "215/215 [==============================] - 3s 12ms/step - loss: 0.4154 - accuracy: 0.8155 - val_loss: 0.4378 - val_accuracy: 0.8123\n",
            "Epoch 3/5\n",
            "215/215 [==============================] - 2s 11ms/step - loss: 0.4008 - accuracy: 0.8212 - val_loss: 0.4332 - val_accuracy: 0.8123\n",
            "Epoch 4/5\n",
            "215/215 [==============================] - 3s 13ms/step - loss: 0.3936 - accuracy: 0.8264 - val_loss: 0.4286 - val_accuracy: 0.8123\n",
            "Epoch 5/5\n",
            "215/215 [==============================] - 2s 9ms/step - loss: 0.3874 - accuracy: 0.8286 - val_loss: 0.4299 - val_accuracy: 0.8123\n"
          ]
        }
      ]
    },
    {
      "cell_type": "code",
      "source": [
        "# Make predictions with USE TF Hub model\n",
        "model_6_pred_probs = model_6.predict(val_sentences)\n",
        "model_6_pred_probs[:10]"
      ],
      "metadata": {
        "colab": {
          "base_uri": "https://localhost:8080/"
        },
        "id": "JRD12H40ED8P",
        "outputId": "e5973036-9515-470e-c67d-e1f1f622c153"
      },
      "execution_count": 83,
      "outputs": [
        {
          "output_type": "stream",
          "name": "stdout",
          "text": [
            "24/24 [==============================] - 1s 13ms/step\n"
          ]
        },
        {
          "output_type": "execute_result",
          "data": {
            "text/plain": [
              "array([[0.14956485],\n",
              "       [0.7329681 ],\n",
              "       [0.98611957],\n",
              "       [0.1975678 ],\n",
              "       [0.7570957 ],\n",
              "       [0.69744974],\n",
              "       [0.97531974],\n",
              "       [0.9738351 ],\n",
              "       [0.92446303],\n",
              "       [0.08807148]], dtype=float32)"
            ]
          },
          "metadata": {},
          "execution_count": 83
        }
      ]
    },
    {
      "cell_type": "code",
      "source": [
        "# Convert prediction probabilities to labels\n",
        "model_6_preds = tf.squeeze(tf.round(model_6_pred_probs))\n",
        "model_6_preds[:10]"
      ],
      "metadata": {
        "colab": {
          "base_uri": "https://localhost:8080/"
        },
        "id": "fHaAWgiZEFRe",
        "outputId": "fb6cda83-187c-4e0d-fa0f-6d2f4d5b7dc6"
      },
      "execution_count": 84,
      "outputs": [
        {
          "output_type": "execute_result",
          "data": {
            "text/plain": [
              "<tf.Tensor: shape=(10,), dtype=float32, numpy=array([0., 1., 1., 0., 1., 1., 1., 1., 1., 0.], dtype=float32)>"
            ]
          },
          "metadata": {},
          "execution_count": 84
        }
      ]
    },
    {
      "cell_type": "code",
      "source": [
        "# Calculate model 6 performance metrics\n",
        "model_6_results = calculate_results(val_labels, model_6_preds)\n",
        "model_6_results"
      ],
      "metadata": {
        "colab": {
          "base_uri": "https://localhost:8080/"
        },
        "id": "qNi2kQfcEGd8",
        "outputId": "eb20f583-ebbd-4cbf-a4a3-d1c0b31c50e9"
      },
      "execution_count": 85,
      "outputs": [
        {
          "output_type": "execute_result",
          "data": {
            "text/plain": [
              "{'accuracy': 81.23359580052494,\n",
              " 'precision': 0.8145687227271431,\n",
              " 'recall': 0.8123359580052494,\n",
              " 'f1': 0.81078947666798}"
            ]
          },
          "metadata": {},
          "execution_count": 85
        }
      ]
    },
    {
      "cell_type": "code",
      "source": [
        "# Compare TF Hub model to baseline\n",
        "compare_baseline_to_new_results(baseline_results, model_6_results)"
      ],
      "metadata": {
        "colab": {
          "base_uri": "https://localhost:8080/"
        },
        "id": "aJ3RUVCAEHdY",
        "outputId": "0a3b9140-4f76-4a06-8761-90dc23528a89"
      },
      "execution_count": 86,
      "outputs": [
        {
          "output_type": "stream",
          "name": "stdout",
          "text": [
            "Baseline accuracy: 79.27, New accuracy: 81.23, Difference: 1.97\n",
            "Baseline precision: 0.81, New precision: 0.81, Difference: 0.00\n",
            "Baseline recall: 0.79, New recall: 0.81, Difference: 0.02\n",
            "Baseline f1: 0.79, New f1: 0.81, Difference: 0.02\n"
          ]
        }
      ]
    },
    {
      "cell_type": "markdown",
      "source": [
        "# Model 7: Pretrained sentence encoder 10% training data"
      ],
      "metadata": {
        "id": "cMPgR1C2EI-Q"
      }
    },
    {
      "cell_type": "markdown",
      "source": [
        "Transfer learning allows for good results using a fraction of the dataset\n",
        "* Making 10% of the training data"
      ],
      "metadata": {
        "id": "3sl-fuBzET-u"
      }
    },
    {
      "cell_type": "code",
      "source": [
        "# One kind of correct way (there are more) to make data subset\n",
        "# (split the already split train_sentences/train_labels)\n",
        "import numpy as np\n",
        "train_sentences_90_percent, train_sentences_10_percent, train_labels_90_percent, train_labels_10_percent = train_test_split(np.array(train_sentences),\n",
        "                                                                                                                            train_labels,\n",
        "                                                                                                                            test_size=0.1,\n",
        "                                                                                                                            random_state=42)"
      ],
      "metadata": {
        "id": "EzbAUrpKEPxb"
      },
      "execution_count": 88,
      "outputs": []
    },
    {
      "cell_type": "code",
      "source": [
        "# Check length of 10 percent datasets\n",
        "print(f\"Total training examples: {len(train_sentences)}\")\n",
        "print(f\"Length of 10% training examples: {len(train_sentences_10_percent)}\")"
      ],
      "metadata": {
        "colab": {
          "base_uri": "https://localhost:8080/"
        },
        "id": "2ApXh4ilEqOM",
        "outputId": "32e48b7f-5a57-4e82-92a3-d102def2a59b"
      },
      "execution_count": 89,
      "outputs": [
        {
          "output_type": "stream",
          "name": "stdout",
          "text": [
            "Total training examples: 6851\n",
            "Length of 10% training examples: 686\n"
          ]
        }
      ]
    },
    {
      "cell_type": "code",
      "source": [
        "# Check the number of targets in our subset of data \n",
        "# (this should be close to the distribution of labels in the original train_labels)\n",
        "pd.Series(train_labels_10_percent).value_counts()"
      ],
      "metadata": {
        "colab": {
          "base_uri": "https://localhost:8080/"
        },
        "id": "sqNM_gjjEwR3",
        "outputId": "3df34142-ca92-4274-d311-63846162fa59"
      },
      "execution_count": 90,
      "outputs": [
        {
          "output_type": "execute_result",
          "data": {
            "text/plain": [
              "0    415\n",
              "1    271\n",
              "dtype: int64"
            ]
          },
          "metadata": {},
          "execution_count": 90
        }
      ]
    },
    {
      "cell_type": "code",
      "source": [
        "# Clone model_6 but reset weights\n",
        "model_7 = tf.keras.models.clone_model(model_6)\n",
        "\n",
        "# Compile model\n",
        "model_7.compile(loss=\"binary_crossentropy\",\n",
        "                optimizer=tf.keras.optimizers.Adam(),\n",
        "                metrics=[\"accuracy\"])\n",
        "\n",
        "# Get a summary (will be same as model_6)\n",
        "model_7.summary()"
      ],
      "metadata": {
        "colab": {
          "base_uri": "https://localhost:8080/"
        },
        "id": "AipMx-tKEyNy",
        "outputId": "6bd4a58d-145f-4570-fb4e-08033293cc3b"
      },
      "execution_count": 91,
      "outputs": [
        {
          "output_type": "stream",
          "name": "stdout",
          "text": [
            "Model: \"model_6_USE\"\n",
            "_________________________________________________________________\n",
            " Layer (type)                Output Shape              Param #   \n",
            "=================================================================\n",
            " USE (KerasLayer)            (None, 512)               256797824 \n",
            "                                                                 \n",
            " dense_6 (Dense)             (None, 64)                32832     \n",
            "                                                                 \n",
            " dense_7 (Dense)             (None, 1)                 65        \n",
            "                                                                 \n",
            "=================================================================\n",
            "Total params: 256,830,721\n",
            "Trainable params: 32,897\n",
            "Non-trainable params: 256,797,824\n",
            "_________________________________________________________________\n"
          ]
        }
      ]
    },
    {
      "cell_type": "code",
      "source": [
        "# Fit the model to 10% of the training data\n",
        "model_7_history = model_7.fit(x=train_sentences_10_percent,\n",
        "                              y=train_labels_10_percent,\n",
        "                              epochs=5,\n",
        "                              validation_data=(val_sentences, val_labels),\n",
        "                              callbacks=[create_tensorboard_callback(SAVE_DIR, \"10_percent_tf_hub_sentence_encoder\")])"
      ],
      "metadata": {
        "colab": {
          "base_uri": "https://localhost:8080/"
        },
        "id": "47tKsaK2E9O3",
        "outputId": "7f7a37ff-e0ec-4c44-be91-755085c1c839"
      },
      "execution_count": 92,
      "outputs": [
        {
          "output_type": "stream",
          "name": "stdout",
          "text": [
            "Saving TensorBoard log files to: model_logs/10_percent_tf_hub_sentence_encoder/20230608-125600\n",
            "Epoch 1/5\n",
            "22/22 [==============================] - 4s 40ms/step - loss: 0.6708 - accuracy: 0.6851 - val_loss: 0.6499 - val_accuracy: 0.6995\n",
            "Epoch 2/5\n",
            "22/22 [==============================] - 0s 22ms/step - loss: 0.5993 - accuracy: 0.8105 - val_loss: 0.5912 - val_accuracy: 0.7507\n",
            "Epoch 3/5\n",
            "22/22 [==============================] - 1s 28ms/step - loss: 0.5203 - accuracy: 0.8207 - val_loss: 0.5368 - val_accuracy: 0.7612\n",
            "Epoch 4/5\n",
            "22/22 [==============================] - 1s 30ms/step - loss: 0.4546 - accuracy: 0.8324 - val_loss: 0.5051 - val_accuracy: 0.7664\n",
            "Epoch 5/5\n",
            "22/22 [==============================] - 1s 27ms/step - loss: 0.4111 - accuracy: 0.8367 - val_loss: 0.4884 - val_accuracy: 0.7795\n"
          ]
        }
      ]
    },
    {
      "cell_type": "code",
      "source": [
        "# Make predictions with the model trained on 10% of the data\n",
        "model_7_pred_probs = model_7.predict(val_sentences)\n",
        "model_7_pred_probs[:10]"
      ],
      "metadata": {
        "colab": {
          "base_uri": "https://localhost:8080/"
        },
        "id": "DiaUF3bnE__v",
        "outputId": "a883b7a7-4340-4ae4-9b46-9d3cec4a04be"
      },
      "execution_count": 93,
      "outputs": [
        {
          "output_type": "stream",
          "name": "stdout",
          "text": [
            "24/24 [==============================] - 0s 6ms/step\n"
          ]
        },
        {
          "output_type": "execute_result",
          "data": {
            "text/plain": [
              "array([[0.2480746 ],\n",
              "       [0.8015266 ],\n",
              "       [0.89555603],\n",
              "       [0.30175406],\n",
              "       [0.5315275 ],\n",
              "       [0.8330123 ],\n",
              "       [0.8045781 ],\n",
              "       [0.8475347 ],\n",
              "       [0.8408635 ],\n",
              "       [0.13186046]], dtype=float32)"
            ]
          },
          "metadata": {},
          "execution_count": 93
        }
      ]
    },
    {
      "cell_type": "code",
      "source": [
        "# Convert prediction probabilities to labels\n",
        "model_7_preds = tf.squeeze(tf.round(model_7_pred_probs))\n",
        "model_7_preds[:10]"
      ],
      "metadata": {
        "colab": {
          "base_uri": "https://localhost:8080/"
        },
        "id": "RWljcVIRFBTv",
        "outputId": "e1b7a9f4-7fdc-471c-f462-ab20f9887d5c"
      },
      "execution_count": 94,
      "outputs": [
        {
          "output_type": "execute_result",
          "data": {
            "text/plain": [
              "<tf.Tensor: shape=(10,), dtype=float32, numpy=array([0., 1., 1., 0., 1., 1., 1., 1., 1., 0.], dtype=float32)>"
            ]
          },
          "metadata": {},
          "execution_count": 94
        }
      ]
    },
    {
      "cell_type": "code",
      "source": [
        "# Calculate model results\n",
        "model_7_results = calculate_results(val_labels, model_7_preds)\n",
        "model_7_results"
      ],
      "metadata": {
        "colab": {
          "base_uri": "https://localhost:8080/"
        },
        "id": "ExG2BNHWFCgb",
        "outputId": "97511003-e3c6-4aa9-956f-0ebe229810fc"
      },
      "execution_count": 95,
      "outputs": [
        {
          "output_type": "execute_result",
          "data": {
            "text/plain": [
              "{'accuracy': 77.95275590551181,\n",
              " 'precision': 0.7849754984084437,\n",
              " 'recall': 0.7795275590551181,\n",
              " 'f1': 0.7761172470890804}"
            ]
          },
          "metadata": {},
          "execution_count": 95
        }
      ]
    },
    {
      "cell_type": "code",
      "source": [
        "# Compare to baseline\n",
        "compare_baseline_to_new_results(baseline_results, model_7_results)"
      ],
      "metadata": {
        "colab": {
          "base_uri": "https://localhost:8080/"
        },
        "id": "Z_f3_yAWFDjE",
        "outputId": "af202b7f-1bba-431f-b458-fa86fe662478"
      },
      "execution_count": 96,
      "outputs": [
        {
          "output_type": "stream",
          "name": "stdout",
          "text": [
            "Baseline accuracy: 79.27, New accuracy: 77.95, Difference: -1.31\n",
            "Baseline precision: 0.81, New precision: 0.78, Difference: -0.03\n",
            "Baseline recall: 0.79, New recall: 0.78, Difference: -0.01\n",
            "Baseline f1: 0.79, New f1: 0.78, Difference: -0.01\n"
          ]
        }
      ]
    },
    {
      "cell_type": "markdown",
      "source": [
        "# Comparing all models"
      ],
      "metadata": {
        "id": "vHOMPFRwFFGZ"
      }
    },
    {
      "cell_type": "code",
      "source": [
        "# Combine model results into a DataFrame\n",
        "all_model_results = pd.DataFrame({\"baseline\": baseline_results,\n",
        "                                  \"simple_dense\": model_1_results,\n",
        "                                  \"lstm\": model_2_results,\n",
        "                                  \"gru\": model_3_results,\n",
        "                                  \"bidirectional\": model_4_results,\n",
        "                                  \"conv1d\": model_5_results,\n",
        "                                  \"tf_hub_sentence_encoder\": model_6_results,\n",
        "                                  \"tf_hub_10_percent_data\": model_7_results})\n",
        "all_model_results = all_model_results.transpose()\n",
        "all_model_results"
      ],
      "metadata": {
        "colab": {
          "base_uri": "https://localhost:8080/",
          "height": 300
        },
        "id": "C-6NP7AqFITI",
        "outputId": "a681b422-8771-4de8-a704-32f5a0d5d555"
      },
      "execution_count": 97,
      "outputs": [
        {
          "output_type": "execute_result",
          "data": {
            "text/plain": [
              "                          accuracy  precision    recall        f1\n",
              "baseline                 79.265092   0.811139  0.792651  0.786219\n",
              "simple_dense             78.740157   0.791492  0.787402  0.784697\n",
              "lstm                     75.328084   0.753394  0.753281  0.751811\n",
              "gru                      77.427822   0.774002  0.774278  0.773601\n",
              "bidirectional            77.427822   0.773925  0.774278  0.773838\n",
              "conv1d                   78.608924   0.790739  0.786089  0.783154\n",
              "tf_hub_sentence_encoder  81.233596   0.814569  0.812336  0.810789\n",
              "tf_hub_10_percent_data   77.952756   0.784975  0.779528  0.776117"
            ],
            "text/html": [
              "\n",
              "  <div id=\"df-a6c8152f-7cda-4e12-972b-28f8d1aecd61\">\n",
              "    <div class=\"colab-df-container\">\n",
              "      <div>\n",
              "<style scoped>\n",
              "    .dataframe tbody tr th:only-of-type {\n",
              "        vertical-align: middle;\n",
              "    }\n",
              "\n",
              "    .dataframe tbody tr th {\n",
              "        vertical-align: top;\n",
              "    }\n",
              "\n",
              "    .dataframe thead th {\n",
              "        text-align: right;\n",
              "    }\n",
              "</style>\n",
              "<table border=\"1\" class=\"dataframe\">\n",
              "  <thead>\n",
              "    <tr style=\"text-align: right;\">\n",
              "      <th></th>\n",
              "      <th>accuracy</th>\n",
              "      <th>precision</th>\n",
              "      <th>recall</th>\n",
              "      <th>f1</th>\n",
              "    </tr>\n",
              "  </thead>\n",
              "  <tbody>\n",
              "    <tr>\n",
              "      <th>baseline</th>\n",
              "      <td>79.265092</td>\n",
              "      <td>0.811139</td>\n",
              "      <td>0.792651</td>\n",
              "      <td>0.786219</td>\n",
              "    </tr>\n",
              "    <tr>\n",
              "      <th>simple_dense</th>\n",
              "      <td>78.740157</td>\n",
              "      <td>0.791492</td>\n",
              "      <td>0.787402</td>\n",
              "      <td>0.784697</td>\n",
              "    </tr>\n",
              "    <tr>\n",
              "      <th>lstm</th>\n",
              "      <td>75.328084</td>\n",
              "      <td>0.753394</td>\n",
              "      <td>0.753281</td>\n",
              "      <td>0.751811</td>\n",
              "    </tr>\n",
              "    <tr>\n",
              "      <th>gru</th>\n",
              "      <td>77.427822</td>\n",
              "      <td>0.774002</td>\n",
              "      <td>0.774278</td>\n",
              "      <td>0.773601</td>\n",
              "    </tr>\n",
              "    <tr>\n",
              "      <th>bidirectional</th>\n",
              "      <td>77.427822</td>\n",
              "      <td>0.773925</td>\n",
              "      <td>0.774278</td>\n",
              "      <td>0.773838</td>\n",
              "    </tr>\n",
              "    <tr>\n",
              "      <th>conv1d</th>\n",
              "      <td>78.608924</td>\n",
              "      <td>0.790739</td>\n",
              "      <td>0.786089</td>\n",
              "      <td>0.783154</td>\n",
              "    </tr>\n",
              "    <tr>\n",
              "      <th>tf_hub_sentence_encoder</th>\n",
              "      <td>81.233596</td>\n",
              "      <td>0.814569</td>\n",
              "      <td>0.812336</td>\n",
              "      <td>0.810789</td>\n",
              "    </tr>\n",
              "    <tr>\n",
              "      <th>tf_hub_10_percent_data</th>\n",
              "      <td>77.952756</td>\n",
              "      <td>0.784975</td>\n",
              "      <td>0.779528</td>\n",
              "      <td>0.776117</td>\n",
              "    </tr>\n",
              "  </tbody>\n",
              "</table>\n",
              "</div>\n",
              "      <button class=\"colab-df-convert\" onclick=\"convertToInteractive('df-a6c8152f-7cda-4e12-972b-28f8d1aecd61')\"\n",
              "              title=\"Convert this dataframe to an interactive table.\"\n",
              "              style=\"display:none;\">\n",
              "        \n",
              "  <svg xmlns=\"http://www.w3.org/2000/svg\" height=\"24px\"viewBox=\"0 0 24 24\"\n",
              "       width=\"24px\">\n",
              "    <path d=\"M0 0h24v24H0V0z\" fill=\"none\"/>\n",
              "    <path d=\"M18.56 5.44l.94 2.06.94-2.06 2.06-.94-2.06-.94-.94-2.06-.94 2.06-2.06.94zm-11 1L8.5 8.5l.94-2.06 2.06-.94-2.06-.94L8.5 2.5l-.94 2.06-2.06.94zm10 10l.94 2.06.94-2.06 2.06-.94-2.06-.94-.94-2.06-.94 2.06-2.06.94z\"/><path d=\"M17.41 7.96l-1.37-1.37c-.4-.4-.92-.59-1.43-.59-.52 0-1.04.2-1.43.59L10.3 9.45l-7.72 7.72c-.78.78-.78 2.05 0 2.83L4 21.41c.39.39.9.59 1.41.59.51 0 1.02-.2 1.41-.59l7.78-7.78 2.81-2.81c.8-.78.8-2.07 0-2.86zM5.41 20L4 18.59l7.72-7.72 1.47 1.35L5.41 20z\"/>\n",
              "  </svg>\n",
              "      </button>\n",
              "      \n",
              "  <style>\n",
              "    .colab-df-container {\n",
              "      display:flex;\n",
              "      flex-wrap:wrap;\n",
              "      gap: 12px;\n",
              "    }\n",
              "\n",
              "    .colab-df-convert {\n",
              "      background-color: #E8F0FE;\n",
              "      border: none;\n",
              "      border-radius: 50%;\n",
              "      cursor: pointer;\n",
              "      display: none;\n",
              "      fill: #1967D2;\n",
              "      height: 32px;\n",
              "      padding: 0 0 0 0;\n",
              "      width: 32px;\n",
              "    }\n",
              "\n",
              "    .colab-df-convert:hover {\n",
              "      background-color: #E2EBFA;\n",
              "      box-shadow: 0px 1px 2px rgba(60, 64, 67, 0.3), 0px 1px 3px 1px rgba(60, 64, 67, 0.15);\n",
              "      fill: #174EA6;\n",
              "    }\n",
              "\n",
              "    [theme=dark] .colab-df-convert {\n",
              "      background-color: #3B4455;\n",
              "      fill: #D2E3FC;\n",
              "    }\n",
              "\n",
              "    [theme=dark] .colab-df-convert:hover {\n",
              "      background-color: #434B5C;\n",
              "      box-shadow: 0px 1px 3px 1px rgba(0, 0, 0, 0.15);\n",
              "      filter: drop-shadow(0px 1px 2px rgba(0, 0, 0, 0.3));\n",
              "      fill: #FFFFFF;\n",
              "    }\n",
              "  </style>\n",
              "\n",
              "      <script>\n",
              "        const buttonEl =\n",
              "          document.querySelector('#df-a6c8152f-7cda-4e12-972b-28f8d1aecd61 button.colab-df-convert');\n",
              "        buttonEl.style.display =\n",
              "          google.colab.kernel.accessAllowed ? 'block' : 'none';\n",
              "\n",
              "        async function convertToInteractive(key) {\n",
              "          const element = document.querySelector('#df-a6c8152f-7cda-4e12-972b-28f8d1aecd61');\n",
              "          const dataTable =\n",
              "            await google.colab.kernel.invokeFunction('convertToInteractive',\n",
              "                                                     [key], {});\n",
              "          if (!dataTable) return;\n",
              "\n",
              "          const docLinkHtml = 'Like what you see? Visit the ' +\n",
              "            '<a target=\"_blank\" href=https://colab.research.google.com/notebooks/data_table.ipynb>data table notebook</a>'\n",
              "            + ' to learn more about interactive tables.';\n",
              "          element.innerHTML = '';\n",
              "          dataTable['output_type'] = 'display_data';\n",
              "          await google.colab.output.renderOutput(dataTable, element);\n",
              "          const docLink = document.createElement('div');\n",
              "          docLink.innerHTML = docLinkHtml;\n",
              "          element.appendChild(docLink);\n",
              "        }\n",
              "      </script>\n",
              "    </div>\n",
              "  </div>\n",
              "  "
            ]
          },
          "metadata": {},
          "execution_count": 97
        }
      ]
    },
    {
      "cell_type": "code",
      "source": [
        "# Reduce the accuracy to same scale as other metrics\n",
        "all_model_results[\"accuracy\"] = all_model_results[\"accuracy\"]/100"
      ],
      "metadata": {
        "id": "WF_bOL8qFLEm"
      },
      "execution_count": 98,
      "outputs": []
    },
    {
      "cell_type": "code",
      "source": [
        "# Plot and compare all of the model results\n",
        "all_model_results.plot(kind=\"bar\", figsize=(10, 7)).legend(bbox_to_anchor=(1.0, 1.0));"
      ],
      "metadata": {
        "colab": {
          "base_uri": "https://localhost:8080/",
          "height": 658
        },
        "id": "Hej65MEFFNCo",
        "outputId": "320143a9-5c8b-410f-e7fc-ea4ae5dee77a"
      },
      "execution_count": 99,
      "outputs": [
        {
          "output_type": "display_data",
          "data": {
            "text/plain": [
              "<Figure size 1000x700 with 1 Axes>"
            ],
            "image/png": "[encoded data removed]"
          },
          "metadata": {}
        }
      ]
    },
    {
      "cell_type": "code",
      "source": [
        "# Sort model results by f1-score\n",
        "all_model_results.sort_values(\"f1\", ascending=False)[\"f1\"].plot(kind=\"bar\", figsize=(10, 7));"
      ],
      "metadata": {
        "colab": {
          "base_uri": "https://localhost:8080/",
          "height": 751
        },
        "id": "lPUGAedxFPOg",
        "outputId": "a7d5b0ad-6854-4a0e-fec7-4a33be6fc059"
      },
      "execution_count": 100,
      "outputs": [
        {
          "output_type": "display_data",
          "data": {
            "text/plain": [
              "<Figure size 1000x700 with 1 Axes>"
            ],
            "image/png": "[encoded data removed]"
          },
          "metadata": {}
        }
      ]
    },
    {
      "cell_type": "markdown",
      "source": [
        "# Combining the models (Ensemble model)"
      ],
      "metadata": {
        "id": "sUyRztMrFS5v"
      }
    },
    {
      "cell_type": "code",
      "source": [
        "# Get mean pred probs for 3 models\n",
        "baseline_pred_probs = np.max(model_0.predict_proba(val_sentences), axis=1) # get the prediction probabilities from baseline model\n",
        "combined_pred_probs = baseline_pred_probs + tf.squeeze(model_2_probs, axis=1) + tf.squeeze(model_6_pred_probs)\n",
        "combined_preds = tf.round(combined_pred_probs/3) # average and round the prediction probabilities to get prediction classes\n",
        "combined_preds[:20]"
      ],
      "metadata": {
        "colab": {
          "base_uri": "https://localhost:8080/"
        },
        "id": "sTYr0w0HFcDH",
        "outputId": "a1159dc5-8925-4d81-fc2d-7c80ab4421f2"
      },
      "execution_count": 102,
      "outputs": [
        {
          "output_type": "execute_result",
          "data": {
            "text/plain": [
              "<tf.Tensor: shape=(20,), dtype=float32, numpy=\n",
              "array([0., 1., 1., 0., 0., 1., 1., 1., 1., 0., 0., 0., 0., 1., 0., 0., 0.,\n",
              "       0., 0., 1.], dtype=float32)>"
            ]
          },
          "metadata": {},
          "execution_count": 102
        }
      ]
    },
    {
      "cell_type": "code",
      "source": [
        "# Calculate results from averaging the prediction probabilities\n",
        "ensemble_results = calculate_results(val_labels, combined_preds)\n",
        "ensemble_results"
      ],
      "metadata": {
        "colab": {
          "base_uri": "https://localhost:8080/"
        },
        "id": "JXtvapzgFn0V",
        "outputId": "da0b01f2-a681-4345-f5f6-1d129133596d"
      },
      "execution_count": 103,
      "outputs": [
        {
          "output_type": "execute_result",
          "data": {
            "text/plain": [
              "{'accuracy': 78.34645669291339,\n",
              " 'precision': 0.7833332922843511,\n",
              " 'recall': 0.7834645669291339,\n",
              " 'f1': 0.783386733697999}"
            ]
          },
          "metadata": {},
          "execution_count": 103
        }
      ]
    },
    {
      "cell_type": "code",
      "source": [
        "# Add our combined model's results to the results DataFrame\n",
        "all_model_results.loc[\"ensemble_results\"] = ensemble_results"
      ],
      "metadata": {
        "id": "nJycNE-yFtgg"
      },
      "execution_count": 104,
      "outputs": []
    },
    {
      "cell_type": "code",
      "source": [
        "# Convert the accuracy to the same scale as the rest of the results\n",
        "all_model_results.loc[\"ensemble_results\"][\"accuracy\"] = all_model_results.loc[\"ensemble_results\"][\"accuracy\"]/100"
      ],
      "metadata": {
        "id": "9rtnUTFEFvyv"
      },
      "execution_count": 105,
      "outputs": []
    },
    {
      "cell_type": "code",
      "source": [
        "all_model_results"
      ],
      "metadata": {
        "colab": {
          "base_uri": "https://localhost:8080/",
          "height": 331
        },
        "id": "NppS0cCRFxhw",
        "outputId": "5926f926-d669-49d4-f15a-d4fb1914933e"
      },
      "execution_count": 106,
      "outputs": [
        {
          "output_type": "execute_result",
          "data": {
            "text/plain": [
              "                         accuracy  precision    recall        f1\n",
              "baseline                 0.792651   0.811139  0.792651  0.786219\n",
              "simple_dense             0.787402   0.791492  0.787402  0.784697\n",
              "lstm                     0.753281   0.753394  0.753281  0.751811\n",
              "gru                      0.774278   0.774002  0.774278  0.773601\n",
              "bidirectional            0.774278   0.773925  0.774278  0.773838\n",
              "conv1d                   0.786089   0.790739  0.786089  0.783154\n",
              "tf_hub_sentence_encoder  0.812336   0.814569  0.812336  0.810789\n",
              "tf_hub_10_percent_data   0.779528   0.784975  0.779528  0.776117\n",
              "ensemble_results         0.783465   0.783333  0.783465  0.783387"
            ],
            "text/html": [
              "\n",
              "  <div id=\"df-1fad4880-0d5c-40e0-94f6-eab6b14d1672\">\n",
              "    <div class=\"colab-df-container\">\n",
              "      <div>\n",
              "<style scoped>\n",
              "    .dataframe tbody tr th:only-of-type {\n",
              "        vertical-align: middle;\n",
              "    }\n",
              "\n",
              "    .dataframe tbody tr th {\n",
              "        vertical-align: top;\n",
              "    }\n",
              "\n",
              "    .dataframe thead th {\n",
              "        text-align: right;\n",
              "    }\n",
              "</style>\n",
              "<table border=\"1\" class=\"dataframe\">\n",
              "  <thead>\n",
              "    <tr style=\"text-align: right;\">\n",
              "      <th></th>\n",
              "      <th>accuracy</th>\n",
              "      <th>precision</th>\n",
              "      <th>recall</th>\n",
              "      <th>f1</th>\n",
              "    </tr>\n",
              "  </thead>\n",
              "  <tbody>\n",
              "    <tr>\n",
              "      <th>baseline</th>\n",
              "      <td>0.792651</td>\n",
              "      <td>0.811139</td>\n",
              "      <td>0.792651</td>\n",
              "      <td>0.786219</td>\n",
              "    </tr>\n",
              "    <tr>\n",
              "      <th>simple_dense</th>\n",
              "      <td>0.787402</td>\n",
              "      <td>0.791492</td>\n",
              "      <td>0.787402</td>\n",
              "      <td>0.784697</td>\n",
              "    </tr>\n",
              "    <tr>\n",
              "      <th>lstm</th>\n",
              "      <td>0.753281</td>\n",
              "      <td>0.753394</td>\n",
              "      <td>0.753281</td>\n",
              "      <td>0.751811</td>\n",
              "    </tr>\n",
              "    <tr>\n",
              "      <th>gru</th>\n",
              "      <td>0.774278</td>\n",
              "      <td>0.774002</td>\n",
              "      <td>0.774278</td>\n",
              "      <td>0.773601</td>\n",
              "    </tr>\n",
              "    <tr>\n",
              "      <th>bidirectional</th>\n",
              "      <td>0.774278</td>\n",
              "      <td>0.773925</td>\n",
              "      <td>0.774278</td>\n",
              "      <td>0.773838</td>\n",
              "    </tr>\n",
              "    <tr>\n",
              "      <th>conv1d</th>\n",
              "      <td>0.786089</td>\n",
              "      <td>0.790739</td>\n",
              "      <td>0.786089</td>\n",
              "      <td>0.783154</td>\n",
              "    </tr>\n",
              "    <tr>\n",
              "      <th>tf_hub_sentence_encoder</th>\n",
              "      <td>0.812336</td>\n",
              "      <td>0.814569</td>\n",
              "      <td>0.812336</td>\n",
              "      <td>0.810789</td>\n",
              "    </tr>\n",
              "    <tr>\n",
              "      <th>tf_hub_10_percent_data</th>\n",
              "      <td>0.779528</td>\n",
              "      <td>0.784975</td>\n",
              "      <td>0.779528</td>\n",
              "      <td>0.776117</td>\n",
              "    </tr>\n",
              "    <tr>\n",
              "      <th>ensemble_results</th>\n",
              "      <td>0.783465</td>\n",
              "      <td>0.783333</td>\n",
              "      <td>0.783465</td>\n",
              "      <td>0.783387</td>\n",
              "    </tr>\n",
              "  </tbody>\n",
              "</table>\n",
              "</div>\n",
              "      <button class=\"colab-df-convert\" onclick=\"convertToInteractive('df-1fad4880-0d5c-40e0-94f6-eab6b14d1672')\"\n",
              "              title=\"Convert this dataframe to an interactive table.\"\n",
              "              style=\"display:none;\">\n",
              "        \n",
              "  <svg xmlns=\"http://www.w3.org/2000/svg\" height=\"24px\"viewBox=\"0 0 24 24\"\n",
              "       width=\"24px\">\n",
              "    <path d=\"M0 0h24v24H0V0z\" fill=\"none\"/>\n",
              "    <path d=\"M18.56 5.44l.94 2.06.94-2.06 2.06-.94-2.06-.94-.94-2.06-.94 2.06-2.06.94zm-11 1L8.5 8.5l.94-2.06 2.06-.94-2.06-.94L8.5 2.5l-.94 2.06-2.06.94zm10 10l.94 2.06.94-2.06 2.06-.94-2.06-.94-.94-2.06-.94 2.06-2.06.94z\"/><path d=\"M17.41 7.96l-1.37-1.37c-.4-.4-.92-.59-1.43-.59-.52 0-1.04.2-1.43.59L10.3 9.45l-7.72 7.72c-.78.78-.78 2.05 0 2.83L4 21.41c.39.39.9.59 1.41.59.51 0 1.02-.2 1.41-.59l7.78-7.78 2.81-2.81c.8-.78.8-2.07 0-2.86zM5.41 20L4 18.59l7.72-7.72 1.47 1.35L5.41 20z\"/>\n",
              "  </svg>\n",
              "      </button>\n",
              "      \n",
              "  <style>\n",
              "    .colab-df-container {\n",
              "      display:flex;\n",
              "      flex-wrap:wrap;\n",
              "      gap: 12px;\n",
              "    }\n",
              "\n",
              "    .colab-df-convert {\n",
              "      background-color: #E8F0FE;\n",
              "      border: none;\n",
              "      border-radius: 50%;\n",
              "      cursor: pointer;\n",
              "      display: none;\n",
              "      fill: #1967D2;\n",
              "      height: 32px;\n",
              "      padding: 0 0 0 0;\n",
              "      width: 32px;\n",
              "    }\n",
              "\n",
              "    .colab-df-convert:hover {\n",
              "      background-color: #E2EBFA;\n",
              "      box-shadow: 0px 1px 2px rgba(60, 64, 67, 0.3), 0px 1px 3px 1px rgba(60, 64, 67, 0.15);\n",
              "      fill: #174EA6;\n",
              "    }\n",
              "\n",
              "    [theme=dark] .colab-df-convert {\n",
              "      background-color: #3B4455;\n",
              "      fill: #D2E3FC;\n",
              "    }\n",
              "\n",
              "    [theme=dark] .colab-df-convert:hover {\n",
              "      background-color: #434B5C;\n",
              "      box-shadow: 0px 1px 3px 1px rgba(0, 0, 0, 0.15);\n",
              "      filter: drop-shadow(0px 1px 2px rgba(0, 0, 0, 0.3));\n",
              "      fill: #FFFFFF;\n",
              "    }\n",
              "  </style>\n",
              "\n",
              "      <script>\n",
              "        const buttonEl =\n",
              "          document.querySelector('#df-1fad4880-0d5c-40e0-94f6-eab6b14d1672 button.colab-df-convert');\n",
              "        buttonEl.style.display =\n",
              "          google.colab.kernel.accessAllowed ? 'block' : 'none';\n",
              "\n",
              "        async function convertToInteractive(key) {\n",
              "          const element = document.querySelector('#df-1fad4880-0d5c-40e0-94f6-eab6b14d1672');\n",
              "          const dataTable =\n",
              "            await google.colab.kernel.invokeFunction('convertToInteractive',\n",
              "                                                     [key], {});\n",
              "          if (!dataTable) return;\n",
              "\n",
              "          const docLinkHtml = 'Like what you see? Visit the ' +\n",
              "            '<a target=\"_blank\" href=https://colab.research.google.com/notebooks/data_table.ipynb>data table notebook</a>'\n",
              "            + ' to learn more about interactive tables.';\n",
              "          element.innerHTML = '';\n",
              "          dataTable['output_type'] = 'display_data';\n",
              "          await google.colab.output.renderOutput(dataTable, element);\n",
              "          const docLink = document.createElement('div');\n",
              "          docLink.innerHTML = docLinkHtml;\n",
              "          element.appendChild(docLink);\n",
              "        }\n",
              "      </script>\n",
              "    </div>\n",
              "  </div>\n",
              "  "
            ]
          },
          "metadata": {},
          "execution_count": 106
        }
      ]
    },
    {
      "cell_type": "markdown",
      "source": [
        "# Finding the most wrong examples"
      ],
      "metadata": {
        "id": "M3isc6GYFyov"
      }
    },
    {
      "cell_type": "code",
      "source": [
        "# Create dataframe with validation sentences and best performing model predictions\n",
        "val_df = pd.DataFrame({\"text\": val_sentences,\n",
        "                       \"target\": val_labels,\n",
        "                       \"pred\": model_6_preds,\n",
        "                       \"pred_prob\": tf.squeeze(model_6_pred_probs)})\n",
        "val_df.head()"
      ],
      "metadata": {
        "colab": {
          "base_uri": "https://localhost:8080/",
          "height": 206
        },
        "id": "xK3RloamF5VW",
        "outputId": "d8fdc7e4-599d-4212-a826-7587839cea0a"
      },
      "execution_count": 107,
      "outputs": [
        {
          "output_type": "execute_result",
          "data": {
            "text/plain": [
              "                                                text  target  pred  pred_prob\n",
              "0  DFR EP016 Monthly Meltdown - On Dnbheaven 2015...       0   0.0   0.149565\n",
              "1  FedEx no longer to transport bioterror germs i...       0   1.0   0.732968\n",
              "2  Gunmen kill four in El Salvador bus attack: Su...       1   1.0   0.986120\n",
              "3  @camilacabello97 Internally and externally scr...       1   0.0   0.197568\n",
              "4  Radiation emergency #preparedness starts with ...       1   1.0   0.757096"
            ],
            "text/html": [
              "\n",
              "  <div id=\"df-f7551bee-2b8a-4c5d-8b3a-7b7008709450\">\n",
              "    <div class=\"colab-df-container\">\n",
              "      <div>\n",
              "<style scoped>\n",
              "    .dataframe tbody tr th:only-of-type {\n",
              "        vertical-align: middle;\n",
              "    }\n",
              "\n",
              "    .dataframe tbody tr th {\n",
              "        vertical-align: top;\n",
              "    }\n",
              "\n",
              "    .dataframe thead th {\n",
              "        text-align: right;\n",
              "    }\n",
              "</style>\n",
              "<table border=\"1\" class=\"dataframe\">\n",
              "  <thead>\n",
              "    <tr style=\"text-align: right;\">\n",
              "      <th></th>\n",
              "      <th>text</th>\n",
              "      <th>target</th>\n",
              "      <th>pred</th>\n",
              "      <th>pred_prob</th>\n",
              "    </tr>\n",
              "  </thead>\n",
              "  <tbody>\n",
              "    <tr>\n",
              "      <th>0</th>\n",
              "      <td>DFR EP016 Monthly Meltdown - On Dnbheaven 2015...</td>\n",
              "      <td>0</td>\n",
              "      <td>0.0</td>\n",
              "      <td>0.149565</td>\n",
              "    </tr>\n",
              "    <tr>\n",
              "      <th>1</th>\n",
              "      <td>FedEx no longer to transport bioterror germs i...</td>\n",
              "      <td>0</td>\n",
              "      <td>1.0</td>\n",
              "      <td>0.732968</td>\n",
              "    </tr>\n",
              "    <tr>\n",
              "      <th>2</th>\n",
              "      <td>Gunmen kill four in El Salvador bus attack: Su...</td>\n",
              "      <td>1</td>\n",
              "      <td>1.0</td>\n",
              "      <td>0.986120</td>\n",
              "    </tr>\n",
              "    <tr>\n",
              "      <th>3</th>\n",
              "      <td>@camilacabello97 Internally and externally scr...</td>\n",
              "      <td>1</td>\n",
              "      <td>0.0</td>\n",
              "      <td>0.197568</td>\n",
              "    </tr>\n",
              "    <tr>\n",
              "      <th>4</th>\n",
              "      <td>Radiation emergency #preparedness starts with ...</td>\n",
              "      <td>1</td>\n",
              "      <td>1.0</td>\n",
              "      <td>0.757096</td>\n",
              "    </tr>\n",
              "  </tbody>\n",
              "</table>\n",
              "</div>\n",
              "      <button class=\"colab-df-convert\" onclick=\"convertToInteractive('df-f7551bee-2b8a-4c5d-8b3a-7b7008709450')\"\n",
              "              title=\"Convert this dataframe to an interactive table.\"\n",
              "              style=\"display:none;\">\n",
              "        \n",
              "  <svg xmlns=\"http://www.w3.org/2000/svg\" height=\"24px\"viewBox=\"0 0 24 24\"\n",
              "       width=\"24px\">\n",
              "    <path d=\"M0 0h24v24H0V0z\" fill=\"none\"/>\n",
              "    <path d=\"M18.56 5.44l.94 2.06.94-2.06 2.06-.94-2.06-.94-.94-2.06-.94 2.06-2.06.94zm-11 1L8.5 8.5l.94-2.06 2.06-.94-2.06-.94L8.5 2.5l-.94 2.06-2.06.94zm10 10l.94 2.06.94-2.06 2.06-.94-2.06-.94-.94-2.06-.94 2.06-2.06.94z\"/><path d=\"M17.41 7.96l-1.37-1.37c-.4-.4-.92-.59-1.43-.59-.52 0-1.04.2-1.43.59L10.3 9.45l-7.72 7.72c-.78.78-.78 2.05 0 2.83L4 21.41c.39.39.9.59 1.41.59.51 0 1.02-.2 1.41-.59l7.78-7.78 2.81-2.81c.8-.78.8-2.07 0-2.86zM5.41 20L4 18.59l7.72-7.72 1.47 1.35L5.41 20z\"/>\n",
              "  </svg>\n",
              "      </button>\n",
              "      \n",
              "  <style>\n",
              "    .colab-df-container {\n",
              "      display:flex;\n",
              "      flex-wrap:wrap;\n",
              "      gap: 12px;\n",
              "    }\n",
              "\n",
              "    .colab-df-convert {\n",
              "      background-color: #E8F0FE;\n",
              "      border: none;\n",
              "      border-radius: 50%;\n",
              "      cursor: pointer;\n",
              "      display: none;\n",
              "      fill: #1967D2;\n",
              "      height: 32px;\n",
              "      padding: 0 0 0 0;\n",
              "      width: 32px;\n",
              "    }\n",
              "\n",
              "    .colab-df-convert:hover {\n",
              "      background-color: #E2EBFA;\n",
              "      box-shadow: 0px 1px 2px rgba(60, 64, 67, 0.3), 0px 1px 3px 1px rgba(60, 64, 67, 0.15);\n",
              "      fill: #174EA6;\n",
              "    }\n",
              "\n",
              "    [theme=dark] .colab-df-convert {\n",
              "      background-color: #3B4455;\n",
              "      fill: #D2E3FC;\n",
              "    }\n",
              "\n",
              "    [theme=dark] .colab-df-convert:hover {\n",
              "      background-color: #434B5C;\n",
              "      box-shadow: 0px 1px 3px 1px rgba(0, 0, 0, 0.15);\n",
              "      filter: drop-shadow(0px 1px 2px rgba(0, 0, 0, 0.3));\n",
              "      fill: #FFFFFF;\n",
              "    }\n",
              "  </style>\n",
              "\n",
              "      <script>\n",
              "        const buttonEl =\n",
              "          document.querySelector('#df-f7551bee-2b8a-4c5d-8b3a-7b7008709450 button.colab-df-convert');\n",
              "        buttonEl.style.display =\n",
              "          google.colab.kernel.accessAllowed ? 'block' : 'none';\n",
              "\n",
              "        async function convertToInteractive(key) {\n",
              "          const element = document.querySelector('#df-f7551bee-2b8a-4c5d-8b3a-7b7008709450');\n",
              "          const dataTable =\n",
              "            await google.colab.kernel.invokeFunction('convertToInteractive',\n",
              "                                                     [key], {});\n",
              "          if (!dataTable) return;\n",
              "\n",
              "          const docLinkHtml = 'Like what you see? Visit the ' +\n",
              "            '<a target=\"_blank\" href=https://colab.research.google.com/notebooks/data_table.ipynb>data table notebook</a>'\n",
              "            + ' to learn more about interactive tables.';\n",
              "          element.innerHTML = '';\n",
              "          dataTable['output_type'] = 'display_data';\n",
              "          await google.colab.output.renderOutput(dataTable, element);\n",
              "          const docLink = document.createElement('div');\n",
              "          docLink.innerHTML = docLinkHtml;\n",
              "          element.appendChild(docLink);\n",
              "        }\n",
              "      </script>\n",
              "    </div>\n",
              "  </div>\n",
              "  "
            ]
          },
          "metadata": {},
          "execution_count": 107
        }
      ]
    },
    {
      "cell_type": "code",
      "source": [
        "# Find the wrong predictions and sort by prediction probabilities\n",
        "most_wrong = val_df[val_df[\"target\"] != val_df[\"pred\"]].sort_values(\"pred_prob\", ascending=False)\n",
        "most_wrong[:10]"
      ],
      "metadata": {
        "colab": {
          "base_uri": "https://localhost:8080/",
          "height": 363
        },
        "id": "coLXyLCwF84Y",
        "outputId": "0a42628b-f728-4db1-98a0-844dc1425baa"
      },
      "execution_count": 108,
      "outputs": [
        {
          "output_type": "execute_result",
          "data": {
            "text/plain": [
              "                                                  text  target  pred  \\\n",
              "31   ? High Skies - Burning Buildings ? http://t.co...       0   1.0   \n",
              "628  @noah_anyname That's where the concentration c...       0   1.0   \n",
              "759  FedEx will no longer transport bioterror patho...       0   1.0   \n",
              "49   @madonnamking RSPCA site multiple 7 story high...       0   1.0   \n",
              "393  @SonofLiberty357 all illuminated by the bright...       0   1.0   \n",
              "209  Ashes 2015: AustraliaÛªs collapse at Trent Br...       0   1.0   \n",
              "251  @AshGhebranious civil rights continued in the ...       0   1.0   \n",
              "698  åÈMGN-AFRICAå¨ pin:263789F4 åÈ Correction: Ten...       0   1.0   \n",
              "109  [55436] 1950 LIONEL TRAINS SMOKE LOCOMOTIVES W...       0   1.0   \n",
              "549  Day 2. Liquidation of emergency at chemical ob...       0   1.0   \n",
              "\n",
              "     pred_prob  \n",
              "31    0.899091  \n",
              "628   0.852410  \n",
              "759   0.847769  \n",
              "49    0.840083  \n",
              "393   0.831527  \n",
              "209   0.815350  \n",
              "251   0.786851  \n",
              "698   0.783770  \n",
              "109   0.780855  \n",
              "549   0.759475  "
            ],
            "text/html": [
              "\n",
              "  <div id=\"df-b8e95fa2-b2d8-4b48-93e6-62ed8c487c68\">\n",
              "    <div class=\"colab-df-container\">\n",
              "      <div>\n",
              "<style scoped>\n",
              "    .dataframe tbody tr th:only-of-type {\n",
              "        vertical-align: middle;\n",
              "    }\n",
              "\n",
              "    .dataframe tbody tr th {\n",
              "        vertical-align: top;\n",
              "    }\n",
              "\n",
              "    .dataframe thead th {\n",
              "        text-align: right;\n",
              "    }\n",
              "</style>\n",
              "<table border=\"1\" class=\"dataframe\">\n",
              "  <thead>\n",
              "    <tr style=\"text-align: right;\">\n",
              "      <th></th>\n",
              "      <th>text</th>\n",
              "      <th>target</th>\n",
              "      <th>pred</th>\n",
              "      <th>pred_prob</th>\n",
              "    </tr>\n",
              "  </thead>\n",
              "  <tbody>\n",
              "    <tr>\n",
              "      <th>31</th>\n",
              "      <td>? High Skies - Burning Buildings ? http://t.co...</td>\n",
              "      <td>0</td>\n",
              "      <td>1.0</td>\n",
              "      <td>0.899091</td>\n",
              "    </tr>\n",
              "    <tr>\n",
              "      <th>628</th>\n",
              "      <td>@noah_anyname That's where the concentration c...</td>\n",
              "      <td>0</td>\n",
              "      <td>1.0</td>\n",
              "      <td>0.852410</td>\n",
              "    </tr>\n",
              "    <tr>\n",
              "      <th>759</th>\n",
              "      <td>FedEx will no longer transport bioterror patho...</td>\n",
              "      <td>0</td>\n",
              "      <td>1.0</td>\n",
              "      <td>0.847769</td>\n",
              "    </tr>\n",
              "    <tr>\n",
              "      <th>49</th>\n",
              "      <td>@madonnamking RSPCA site multiple 7 story high...</td>\n",
              "      <td>0</td>\n",
              "      <td>1.0</td>\n",
              "      <td>0.840083</td>\n",
              "    </tr>\n",
              "    <tr>\n",
              "      <th>393</th>\n",
              "      <td>@SonofLiberty357 all illuminated by the bright...</td>\n",
              "      <td>0</td>\n",
              "      <td>1.0</td>\n",
              "      <td>0.831527</td>\n",
              "    </tr>\n",
              "    <tr>\n",
              "      <th>209</th>\n",
              "      <td>Ashes 2015: AustraliaÛªs collapse at Trent Br...</td>\n",
              "      <td>0</td>\n",
              "      <td>1.0</td>\n",
              "      <td>0.815350</td>\n",
              "    </tr>\n",
              "    <tr>\n",
              "      <th>251</th>\n",
              "      <td>@AshGhebranious civil rights continued in the ...</td>\n",
              "      <td>0</td>\n",
              "      <td>1.0</td>\n",
              "      <td>0.786851</td>\n",
              "    </tr>\n",
              "    <tr>\n",
              "      <th>698</th>\n",
              "      <td>åÈMGN-AFRICAå¨ pin:263789F4 åÈ Correction: Ten...</td>\n",
              "      <td>0</td>\n",
              "      <td>1.0</td>\n",
              "      <td>0.783770</td>\n",
              "    </tr>\n",
              "    <tr>\n",
              "      <th>109</th>\n",
              "      <td>[55436] 1950 LIONEL TRAINS SMOKE LOCOMOTIVES W...</td>\n",
              "      <td>0</td>\n",
              "      <td>1.0</td>\n",
              "      <td>0.780855</td>\n",
              "    </tr>\n",
              "    <tr>\n",
              "      <th>549</th>\n",
              "      <td>Day 2. Liquidation of emergency at chemical ob...</td>\n",
              "      <td>0</td>\n",
              "      <td>1.0</td>\n",
              "      <td>0.759475</td>\n",
              "    </tr>\n",
              "  </tbody>\n",
              "</table>\n",
              "</div>\n",
              "      <button class=\"colab-df-convert\" onclick=\"convertToInteractive('df-b8e95fa2-b2d8-4b48-93e6-62ed8c487c68')\"\n",
              "              title=\"Convert this dataframe to an interactive table.\"\n",
              "              style=\"display:none;\">\n",
              "        \n",
              "  <svg xmlns=\"http://www.w3.org/2000/svg\" height=\"24px\"viewBox=\"0 0 24 24\"\n",
              "       width=\"24px\">\n",
              "    <path d=\"M0 0h24v24H0V0z\" fill=\"none\"/>\n",
              "    <path d=\"M18.56 5.44l.94 2.06.94-2.06 2.06-.94-2.06-.94-.94-2.06-.94 2.06-2.06.94zm-11 1L8.5 8.5l.94-2.06 2.06-.94-2.06-.94L8.5 2.5l-.94 2.06-2.06.94zm10 10l.94 2.06.94-2.06 2.06-.94-2.06-.94-.94-2.06-.94 2.06-2.06.94z\"/><path d=\"M17.41 7.96l-1.37-1.37c-.4-.4-.92-.59-1.43-.59-.52 0-1.04.2-1.43.59L10.3 9.45l-7.72 7.72c-.78.78-.78 2.05 0 2.83L4 21.41c.39.39.9.59 1.41.59.51 0 1.02-.2 1.41-.59l7.78-7.78 2.81-2.81c.8-.78.8-2.07 0-2.86zM5.41 20L4 18.59l7.72-7.72 1.47 1.35L5.41 20z\"/>\n",
              "  </svg>\n",
              "      </button>\n",
              "      \n",
              "  <style>\n",
              "    .colab-df-container {\n",
              "      display:flex;\n",
              "      flex-wrap:wrap;\n",
              "      gap: 12px;\n",
              "    }\n",
              "\n",
              "    .colab-df-convert {\n",
              "      background-color: #E8F0FE;\n",
              "      border: none;\n",
              "      border-radius: 50%;\n",
              "      cursor: pointer;\n",
              "      display: none;\n",
              "      fill: #1967D2;\n",
              "      height: 32px;\n",
              "      padding: 0 0 0 0;\n",
              "      width: 32px;\n",
              "    }\n",
              "\n",
              "    .colab-df-convert:hover {\n",
              "      background-color: #E2EBFA;\n",
              "      box-shadow: 0px 1px 2px rgba(60, 64, 67, 0.3), 0px 1px 3px 1px rgba(60, 64, 67, 0.15);\n",
              "      fill: #174EA6;\n",
              "    }\n",
              "\n",
              "    [theme=dark] .colab-df-convert {\n",
              "      background-color: #3B4455;\n",
              "      fill: #D2E3FC;\n",
              "    }\n",
              "\n",
              "    [theme=dark] .colab-df-convert:hover {\n",
              "      background-color: #434B5C;\n",
              "      box-shadow: 0px 1px 3px 1px rgba(0, 0, 0, 0.15);\n",
              "      filter: drop-shadow(0px 1px 2px rgba(0, 0, 0, 0.3));\n",
              "      fill: #FFFFFF;\n",
              "    }\n",
              "  </style>\n",
              "\n",
              "      <script>\n",
              "        const buttonEl =\n",
              "          document.querySelector('#df-b8e95fa2-b2d8-4b48-93e6-62ed8c487c68 button.colab-df-convert');\n",
              "        buttonEl.style.display =\n",
              "          google.colab.kernel.accessAllowed ? 'block' : 'none';\n",
              "\n",
              "        async function convertToInteractive(key) {\n",
              "          const element = document.querySelector('#df-b8e95fa2-b2d8-4b48-93e6-62ed8c487c68');\n",
              "          const dataTable =\n",
              "            await google.colab.kernel.invokeFunction('convertToInteractive',\n",
              "                                                     [key], {});\n",
              "          if (!dataTable) return;\n",
              "\n",
              "          const docLinkHtml = 'Like what you see? Visit the ' +\n",
              "            '<a target=\"_blank\" href=https://colab.research.google.com/notebooks/data_table.ipynb>data table notebook</a>'\n",
              "            + ' to learn more about interactive tables.';\n",
              "          element.innerHTML = '';\n",
              "          dataTable['output_type'] = 'display_data';\n",
              "          await google.colab.output.renderOutput(dataTable, element);\n",
              "          const docLink = document.createElement('div');\n",
              "          docLink.innerHTML = docLinkHtml;\n",
              "          element.appendChild(docLink);\n",
              "        }\n",
              "      </script>\n",
              "    </div>\n",
              "  </div>\n",
              "  "
            ]
          },
          "metadata": {},
          "execution_count": 108
        }
      ]
    },
    {
      "cell_type": "code",
      "source": [
        "# Check the false positives (model predicted 1 when should've been 0)\n",
        "for row in most_wrong[:10].itertuples(): # loop through the top 10 rows (change the index to view different rows)\n",
        "  _, text, target, pred, prob = row\n",
        "  print(f\"Target: {target}, Pred: {int(pred)}, Prob: {prob}\")\n",
        "  print(f\"Text:\\n{text}\\n\")\n",
        "  print(\"----\\n\")"
      ],
      "metadata": {
        "colab": {
          "base_uri": "https://localhost:8080/"
        },
        "id": "QP6eib_xGNMY",
        "outputId": "375d098f-50e4-4c87-d4bb-ffcd32d67aaf"
      },
      "execution_count": 109,
      "outputs": [
        {
          "output_type": "stream",
          "name": "stdout",
          "text": [
            "Target: 0, Pred: 1, Prob: 0.8990914821624756\n",
            "Text:\n",
            "? High Skies - Burning Buildings ? http://t.co/uVq41i3Kx2 #nowplaying\n",
            "\n",
            "----\n",
            "\n",
            "Target: 0, Pred: 1, Prob: 0.8524096608161926\n",
            "Text:\n",
            "@noah_anyname That's where the concentration camps and mass murder come in. \n",
            " \n",
            "EVERY. FUCKING. TIME.\n",
            "\n",
            "----\n",
            "\n",
            "Target: 0, Pred: 1, Prob: 0.8477694392204285\n",
            "Text:\n",
            "FedEx will no longer transport bioterror pathogens in wake of anthrax lab mishaps http://t.co/lHpgxc4b8J\n",
            "\n",
            "----\n",
            "\n",
            "Target: 0, Pred: 1, Prob: 0.8400827050209045\n",
            "Text:\n",
            "@madonnamking RSPCA site multiple 7 story high rise buildings next to low density character residential in an area that floods\n",
            "\n",
            "----\n",
            "\n",
            "Target: 0, Pred: 1, Prob: 0.8315272331237793\n",
            "Text:\n",
            "@SonofLiberty357 all illuminated by the brightly burning buildings all around the town!\n",
            "\n",
            "----\n",
            "\n",
            "Target: 0, Pred: 1, Prob: 0.8153498768806458\n",
            "Text:\n",
            "Ashes 2015: AustraliaÛªs collapse at Trent Bridge among worst in history: England bundled out Australia for 60 ... http://t.co/t5TrhjUAU0\n",
            "\n",
            "----\n",
            "\n",
            "Target: 0, Pred: 1, Prob: 0.7868513464927673\n",
            "Text:\n",
            "@AshGhebranious civil rights continued in the 60s. And what about trans-generational trauma? if anything we should listen to the Americans.\n",
            "\n",
            "----\n",
            "\n",
            "Target: 0, Pred: 1, Prob: 0.7837700247764587\n",
            "Text:\n",
            "åÈMGN-AFRICAå¨ pin:263789F4 åÈ Correction: Tent Collapse Story: Correction: Tent Collapse story åÈ http://t.co/fDJUYvZMrv @wizkidayo\n",
            "\n",
            "----\n",
            "\n",
            "Target: 0, Pred: 1, Prob: 0.7808550596237183\n",
            "Text:\n",
            "[55436] 1950 LIONEL TRAINS SMOKE LOCOMOTIVES WITH MAGNE-TRACTION INSTRUCTIONS http://t.co/xEZBs3sq0y http://t.co/C2x0QoKGlY\n",
            "\n",
            "----\n",
            "\n",
            "Target: 0, Pred: 1, Prob: 0.7594746947288513\n",
            "Text:\n",
            "Day 2. Liquidation of emergency at chemical object. #USAR2015 #USAR15 #RUOR #??????????? http://t.co/gGTmDqUdDo\n",
            "\n",
            "----\n",
            "\n"
          ]
        }
      ]
    },
    {
      "cell_type": "code",
      "source": [
        "# Check the most wrong false negatives (model predicted 0 when should've predict 1)\n",
        "for row in most_wrong[-10:].itertuples():\n",
        "  _, text, target, pred, prob = row\n",
        "  print(f\"Target: {target}, Pred: {int(pred)}, Prob: {prob}\")\n",
        "  print(f\"Text:\\n{text}\\n\")\n",
        "  print(\"----\\n\")"
      ],
      "metadata": {
        "colab": {
          "base_uri": "https://localhost:8080/"
        },
        "id": "LCxoSCBoGV7a",
        "outputId": "11903547-6ef8-4870-a58e-260e37f70837"
      },
      "execution_count": 110,
      "outputs": [
        {
          "output_type": "stream",
          "name": "stdout",
          "text": [
            "Target: 1, Pred: 0, Prob: 0.05561099946498871\n",
            "Text:\n",
            "@willienelson We need help! Horses will die!Please RT &amp; sign petition!Take a stand &amp; be a voice for them! #gilbert23 https://t.co/e8dl1lNCVu\n",
            "\n",
            "----\n",
            "\n",
            "Target: 1, Pred: 0, Prob: 0.053267646580934525\n",
            "Text:\n",
            "Lucas Duda is Ghost Rider. Not the Nic Cage version but an actual 'engulfed in flames' badass. #Mets\n",
            "\n",
            "----\n",
            "\n",
            "Target: 1, Pred: 0, Prob: 0.05275484919548035\n",
            "Text:\n",
            "You can never escape me. Bullets don't harm me. Nothing harms me. But I know pain. I know pain. Sometimes I share it. With someone like you.\n",
            "\n",
            "----\n",
            "\n",
            "Target: 1, Pred: 0, Prob: 0.05258318409323692\n",
            "Text:\n",
            "@BoyInAHorsemask its a panda trapped in a dogs body\n",
            "\n",
            "----\n",
            "\n",
            "Target: 1, Pred: 0, Prob: 0.05029232054948807\n",
            "Text:\n",
            "VICTORINOX SWISS ARMY DATE WOMEN'S RUBBER MOP WATCH 241487 http://t.co/yFy3nkkcoH http://t.co/KNEhVvOHVK\n",
            "\n",
            "----\n",
            "\n",
            "Target: 1, Pred: 0, Prob: 0.04717487841844559\n",
            "Text:\n",
            "I get to smoke my shit in peace\n",
            "\n",
            "----\n",
            "\n",
            "Target: 1, Pred: 0, Prob: 0.039658237248659134\n",
            "Text:\n",
            "@SoonerMagic_ I mean I'm a fan but I don't need a girl sounding off like a damn siren\n",
            "\n",
            "----\n",
            "\n",
            "Target: 1, Pred: 0, Prob: 0.03817648068070412\n",
            "Text:\n",
            "Reddit Will Now QuarantineÛ_ http://t.co/pkUAMXw6pm #onlinecommunities #reddit #amageddon #freespeech #Business http://t.co/PAWvNJ4sAP\n",
            "\n",
            "----\n",
            "\n",
            "Target: 1, Pred: 0, Prob: 0.032760296016931534\n",
            "Text:\n",
            "Why are you deluged with low self-image? Take the quiz: http://t.co/XsPqdOrIqj http://t.co/CQYvFR4UCy\n",
            "\n",
            "----\n",
            "\n",
            "Target: 1, Pred: 0, Prob: 0.025293972343206406\n",
            "Text:\n",
            "Ron &amp; Fez - Dave's High School Crush https://t.co/aN3W16c8F6 via @YouTube\n",
            "\n",
            "----\n",
            "\n"
          ]
        }
      ]
    },
    {
      "cell_type": "markdown",
      "source": [
        "From the most wrong examples, it's clear to see the ground truth label given to the text is wrong\n",
        "* correcting these would make the model perform better"
      ],
      "metadata": {
        "id": "nqrHngKoGmne"
      }
    },
    {
      "cell_type": "markdown",
      "source": [
        "# Predictions"
      ],
      "metadata": {
        "id": "5d6JjqQuGcXA"
      }
    },
    {
      "cell_type": "code",
      "source": [
        "# Making predictions on the test dataset\n",
        "test_sentences = test_df[\"text\"].to_list()\n",
        "test_samples = random.sample(test_sentences, 10)\n",
        "for test_sample in test_samples:\n",
        "  pred_prob = tf.squeeze(model_6.predict([test_sample])) # has to be list\n",
        "  pred = tf.round(pred_prob)\n",
        "  print(f\"Pred: {int(pred)}, Prob: {pred_prob}\")\n",
        "  print(f\"Text:\\n{test_sample}\\n\")\n",
        "  print(\"----\\n\")"
      ],
      "metadata": {
        "colab": {
          "base_uri": "https://localhost:8080/"
        },
        "id": "aeqo3ZVCG2RO",
        "outputId": "1f6a89c2-268d-4259-a533-adbff7ba9f42"
      },
      "execution_count": 111,
      "outputs": [
        {
          "output_type": "stream",
          "name": "stdout",
          "text": [
            "1/1 [==============================] - 0s 55ms/step\n",
            "Pred: 0, Prob: 0.19386041164398193\n",
            "Text:\n",
            "Fuck around and drown ???? https://t.co/fr5z9WklMZ\n",
            "\n",
            "----\n",
            "\n",
            "1/1 [==============================] - 0s 50ms/step\n",
            "Pred: 0, Prob: 0.1155112013220787\n",
            "Text:\n",
            "@ScarFacedCully Really cause you're spending more time panicking when you could be there\n",
            "\n",
            "----\n",
            "\n",
            "1/1 [==============================] - 0s 86ms/step\n",
            "Pred: 0, Prob: 0.07577638328075409\n",
            "Text:\n",
            "@MikeParrActor if Ross is dead I shall never watch emmerdale again I'll be that heartbroken ??\n",
            "\n",
            "----\n",
            "\n",
            "1/1 [==============================] - 0s 95ms/step\n",
            "Pred: 1, Prob: 0.956213116645813\n",
            "Text:\n",
            "Families to sue over Legionnaires: More than 40 families affected by the fatal outbreak of Legionnaires' disea... http://t.co/boZfh1M3wb\n",
            "\n",
            "----\n",
            "\n",
            "1/1 [==============================] - 0s 48ms/step\n",
            "Pred: 0, Prob: 0.35835930705070496\n",
            "Text:\n",
            "We were fucking around on Google maps at work and I pulled up Boise and it blew their minds. Yeah Idaho isn't what you think at all.?\n",
            "\n",
            "----\n",
            "\n",
            "1/1 [==============================] - 0s 60ms/step\n",
            "Pred: 1, Prob: 0.9334148168563843\n",
            "Text:\n",
            "Emergency crews are on the scene of a chemical spill at Spohn Shoreline. We will have more details as they come to us.\n",
            "\n",
            "----\n",
            "\n",
            "1/1 [==============================] - 0s 72ms/step\n",
            "Pred: 0, Prob: 0.1417635828256607\n",
            "Text:\n",
            "Sinkhole Selfies: You Wont Believe What's In The Brooklyn Sinkhole!: \n",
            "        Sinkhole Selfies: You Wont Belie... http://t.co/OFEbaKatNh\n",
            "\n",
            "----\n",
            "\n",
            "1/1 [==============================] - 0s 68ms/step\n",
            "Pred: 0, Prob: 0.22901082038879395\n",
            "Text:\n",
            "I hope I get electrocuted today at work\n",
            "\n",
            "----\n",
            "\n",
            "1/1 [==============================] - 0s 63ms/step\n",
            "Pred: 1, Prob: 0.8996939659118652\n",
            "Text:\n",
            "Cross-border terrorism: Pakistan caught red-handed again http://t.co/NVGNF9AcuU\n",
            "\n",
            "----\n",
            "\n",
            "1/1 [==============================] - 0s 83ms/step\n",
            "Pred: 0, Prob: 0.30469900369644165\n",
            "Text:\n",
            "Call for Tasmania's emergency services to be trained in horse rescues http://t.co/q9OXqfdGwX #abcnews\n",
            "\n",
            "----\n",
            "\n"
          ]
        }
      ]
    },
    {
      "cell_type": "markdown",
      "source": [
        "Predicting off random tweets not in the dataset:"
      ],
      "metadata": {
        "id": "5cwCK4kzHN7b"
      }
    },
    {
      "cell_type": "code",
      "source": [
        "# Source - https://twitter.com/BeirutCityGuide/status/1290696551376007168\n",
        "beirut_tweet_1 = \"Reports that the smoke in Beirut sky contains nitric acid, which is toxic. Please share and refrain from stepping outside unless urgent. #Lebanon\"\n",
        "\n",
        "# Source - https://twitter.com/BeirutCityGuide/status/1290773498743476224\n",
        "beirut_tweet_2 = \"#Beirut declared a “devastated city”, two-week state of emergency officially declared. #Lebanon\""
      ],
      "metadata": {
        "id": "6MhF2LIRHGFG"
      },
      "execution_count": 112,
      "outputs": []
    },
    {
      "cell_type": "code",
      "source": [
        "def predict_on_sentence(model, sentence):\n",
        "  \"\"\"\n",
        "  Uses model to make a prediction on sentence.\n",
        "\n",
        "  Returns the sentence, the predicted label and the prediction probability.\n",
        "  \"\"\"\n",
        "  pred_prob = model.predict([sentence])\n",
        "  pred_label = tf.squeeze(tf.round(pred_prob)).numpy()\n",
        "  print(f\"Pred: {pred_label}\", \"(real disaster)\" if pred_label > 0 else \"(not real disaster)\", f\"Prob: {pred_prob[0][0]}\")\n",
        "  print(f\"Text:\\n{sentence}\")"
      ],
      "metadata": {
        "id": "MzXDvFCSHbmH"
      },
      "execution_count": 114,
      "outputs": []
    },
    {
      "cell_type": "code",
      "source": [
        "# Predict on diaster Tweet 1\n",
        "predict_on_sentence(model=model_6, \n",
        "                    sentence=beirut_tweet_1)"
      ],
      "metadata": {
        "colab": {
          "base_uri": "https://localhost:8080/"
        },
        "id": "zVAEz-DkHXnp",
        "outputId": "7b796dbe-a578-4333-9bb6-df085493319c"
      },
      "execution_count": 115,
      "outputs": [
        {
          "output_type": "stream",
          "name": "stdout",
          "text": [
            "1/1 [==============================] - 0s 31ms/step\n",
            "Pred: 1.0 (real disaster) Prob: 0.9620756506919861\n",
            "Text:\n",
            "Reports that the smoke in Beirut sky contains nitric acid, which is toxic. Please share and refrain from stepping outside unless urgent. #Lebanon\n"
          ]
        }
      ]
    },
    {
      "cell_type": "code",
      "source": [
        "# Predict on diaster Tweet 2\n",
        "predict_on_sentence(model=model_6, \n",
        "                    sentence=beirut_tweet_2)"
      ],
      "metadata": {
        "colab": {
          "base_uri": "https://localhost:8080/"
        },
        "id": "H5de1A_xHZOi",
        "outputId": "76ed2bb2-4145-47d2-e9d7-30776d953371"
      },
      "execution_count": 116,
      "outputs": [
        {
          "output_type": "stream",
          "name": "stdout",
          "text": [
            "1/1 [==============================] - 0s 30ms/step\n",
            "Pred: 1.0 (real disaster) Prob: 0.9636958241462708\n",
            "Text:\n",
            "#Beirut declared a “devastated city”, two-week state of emergency officially declared. #Lebanon\n"
          ]
        }
      ]
    },
    {
      "cell_type": "markdown",
      "source": [
        "# Speed/Score tradeoff"
      ],
      "metadata": {
        "id": "nQ795QnmHfAA"
      }
    },
    {
      "cell_type": "code",
      "source": [
        "# Calculate the time of predictions\n",
        "import time\n",
        "def pred_timer(model, samples):\n",
        "  \"\"\"\n",
        "  Times how long a model takes to make predictions on samples.\n",
        "  \n",
        "  Args:\n",
        "  ----\n",
        "  model = a trained model\n",
        "  sample = a list of samples\n",
        "\n",
        "  Returns:\n",
        "  ----\n",
        "  total_time = total elapsed time for model to make predictions on samples\n",
        "  time_per_pred = time in seconds per single sample\n",
        "  \"\"\"\n",
        "  start_time = time.perf_counter() # get start time\n",
        "  model.predict(samples) # make predictions\n",
        "  end_time = time.perf_counter() # get finish time\n",
        "  total_time = end_time-start_time # calculate how long predictions took to make\n",
        "  time_per_pred = total_time/len(samples) # find prediction time per sample\n",
        "  return total_time, time_per_pred"
      ],
      "metadata": {
        "id": "PtdZatM-HiBw"
      },
      "execution_count": 117,
      "outputs": []
    },
    {
      "cell_type": "code",
      "source": [
        "# Calculate TF Hub Sentence Encoder prediction times\n",
        "model_6_total_pred_time, model_6_time_per_pred = pred_timer(model_6, val_sentences)\n",
        "model_6_total_pred_time, model_6_time_per_pred"
      ],
      "metadata": {
        "colab": {
          "base_uri": "https://localhost:8080/"
        },
        "id": "GEo6meY1Hl9A",
        "outputId": "49f625c2-fa0f-4daa-e20f-be4ed6d19834"
      },
      "execution_count": 118,
      "outputs": [
        {
          "output_type": "stream",
          "name": "stdout",
          "text": [
            "24/24 [==============================] - 0s 11ms/step\n"
          ]
        },
        {
          "output_type": "execute_result",
          "data": {
            "text/plain": [
              "(0.3549741870001526, 0.00046584538976397977)"
            ]
          },
          "metadata": {},
          "execution_count": 118
        }
      ]
    },
    {
      "cell_type": "code",
      "source": [
        "# Calculate Naive Bayes prediction times\n",
        "baseline_total_pred_time, baseline_time_per_pred = pred_timer(model_0, val_sentences)\n",
        "baseline_total_pred_time, baseline_time_per_pred"
      ],
      "metadata": {
        "colab": {
          "base_uri": "https://localhost:8080/"
        },
        "id": "HMO6QBzpHnhT",
        "outputId": "eca52b2d-2613-47ec-a706-8a3c77062bbc"
      },
      "execution_count": 119,
      "outputs": [
        {
          "output_type": "execute_result",
          "data": {
            "text/plain": [
              "(0.022163539000757737, 2.908600918734611e-05)"
            ]
          },
          "metadata": {},
          "execution_count": 119
        }
      ]
    },
    {
      "cell_type": "code",
      "source": [
        "import matplotlib.pyplot as plt\n",
        "\n",
        "plt.figure(figsize=(10, 7))\n",
        "plt.scatter(baseline_time_per_pred, baseline_results[\"f1\"], label=\"baseline\")\n",
        "plt.scatter(model_6_time_per_pred, model_6_results[\"f1\"], label=\"tf_hub_sentence_encoder\")\n",
        "plt.legend()\n",
        "plt.title(\"F1-score versus time per prediction\")\n",
        "plt.xlabel(\"Time per prediction\")\n",
        "plt.ylabel(\"F1-Score\");"
      ],
      "metadata": {
        "colab": {
          "base_uri": "https://localhost:8080/",
          "height": 605
        },
        "id": "J3mkRmLTHpFZ",
        "outputId": "92d2e2cf-6bfd-4edb-c02e-c851e380a56a"
      },
      "execution_count": 120,
      "outputs": [
        {
          "output_type": "display_data",
          "data": {
            "text/plain": [
              "<Figure size 1000x700 with 1 Axes>"
            ],
            "image/png": "[encoded data removed]"
          },
          "metadata": {}
        }
      ]
    },
    {
      "cell_type": "markdown",
      "source": [
        "Where large-scale deployment is concerned, a trade-off has to be made whether a faster but less accurate model is used"
      ],
      "metadata": {
        "id": "sPCN4SOIHucL"
      }
    },
    {
      "cell_type": "code",
      "source": [],
      "metadata": {
        "id": "hQ73U5biHsLL"
      },
      "execution_count": null,
      "outputs": []
    }
  ]
}